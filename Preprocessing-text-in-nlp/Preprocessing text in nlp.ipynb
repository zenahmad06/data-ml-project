{
 "cells": [
  {
   "cell_type": "code",
   "execution_count": 1,
   "metadata": {},
   "outputs": [
    {
     "data": {
      "text/html": [
       "<div>\n",
       "<style scoped>\n",
       "    .dataframe tbody tr th:only-of-type {\n",
       "        vertical-align: middle;\n",
       "    }\n",
       "\n",
       "    .dataframe tbody tr th {\n",
       "        vertical-align: top;\n",
       "    }\n",
       "\n",
       "    .dataframe thead th {\n",
       "        text-align: right;\n",
       "    }\n",
       "</style>\n",
       "<table border=\"1\" class=\"dataframe\">\n",
       "  <thead>\n",
       "    <tr style=\"text-align: right;\">\n",
       "      <th></th>\n",
       "      <th>review</th>\n",
       "      <th>sentiment</th>\n",
       "    </tr>\n",
       "  </thead>\n",
       "  <tbody>\n",
       "    <tr>\n",
       "      <th>0</th>\n",
       "      <td>One of the other reviewers has mentioned that ...</td>\n",
       "      <td>positive</td>\n",
       "    </tr>\n",
       "    <tr>\n",
       "      <th>1</th>\n",
       "      <td>A wonderful little production. &lt;br /&gt;&lt;br /&gt;The...</td>\n",
       "      <td>positive</td>\n",
       "    </tr>\n",
       "    <tr>\n",
       "      <th>2</th>\n",
       "      <td>I thought this was a wonderful way to spend ti...</td>\n",
       "      <td>positive</td>\n",
       "    </tr>\n",
       "    <tr>\n",
       "      <th>3</th>\n",
       "      <td>Basically there's a family where a little boy ...</td>\n",
       "      <td>negative</td>\n",
       "    </tr>\n",
       "    <tr>\n",
       "      <th>4</th>\n",
       "      <td>Petter Mattei's \"Love in the Time of Money\" is...</td>\n",
       "      <td>positive</td>\n",
       "    </tr>\n",
       "    <tr>\n",
       "      <th>...</th>\n",
       "      <td>...</td>\n",
       "      <td>...</td>\n",
       "    </tr>\n",
       "    <tr>\n",
       "      <th>49995</th>\n",
       "      <td>I thought this movie did a down right good job...</td>\n",
       "      <td>positive</td>\n",
       "    </tr>\n",
       "    <tr>\n",
       "      <th>49996</th>\n",
       "      <td>Bad plot, bad dialogue, bad acting, idiotic di...</td>\n",
       "      <td>negative</td>\n",
       "    </tr>\n",
       "    <tr>\n",
       "      <th>49997</th>\n",
       "      <td>I am a Catholic taught in parochial elementary...</td>\n",
       "      <td>negative</td>\n",
       "    </tr>\n",
       "    <tr>\n",
       "      <th>49998</th>\n",
       "      <td>I'm going to have to disagree with the previou...</td>\n",
       "      <td>negative</td>\n",
       "    </tr>\n",
       "    <tr>\n",
       "      <th>49999</th>\n",
       "      <td>No one expects the Star Trek movies to be high...</td>\n",
       "      <td>negative</td>\n",
       "    </tr>\n",
       "  </tbody>\n",
       "</table>\n",
       "<p>50000 rows × 2 columns</p>\n",
       "</div>"
      ],
      "text/plain": [
       "                                                  review sentiment\n",
       "0      One of the other reviewers has mentioned that ...  positive\n",
       "1      A wonderful little production. <br /><br />The...  positive\n",
       "2      I thought this was a wonderful way to spend ti...  positive\n",
       "3      Basically there's a family where a little boy ...  negative\n",
       "4      Petter Mattei's \"Love in the Time of Money\" is...  positive\n",
       "...                                                  ...       ...\n",
       "49995  I thought this movie did a down right good job...  positive\n",
       "49996  Bad plot, bad dialogue, bad acting, idiotic di...  negative\n",
       "49997  I am a Catholic taught in parochial elementary...  negative\n",
       "49998  I'm going to have to disagree with the previou...  negative\n",
       "49999  No one expects the Star Trek movies to be high...  negative\n",
       "\n",
       "[50000 rows x 2 columns]"
      ]
     },
     "execution_count": 1,
     "metadata": {},
     "output_type": "execute_result"
    }
   ],
   "source": [
    "import pandas as pd\n",
    "data=pd.read_csv(\"C:/Users/User/Documents/IMDB Dataset.csv\")\n",
    "data"
   ]
  },
  {
   "cell_type": "markdown",
   "metadata": {},
   "source": [
    "    there's two columns review and sentiment, for example we get one row value"
   ]
  },
  {
   "cell_type": "code",
   "execution_count": 2,
   "metadata": {},
   "outputs": [
    {
     "data": {
      "text/plain": [
       "\"One of the other reviewers has mentioned that after watching just 1 Oz episode you'll be hooked. They are right, as this is exactly what happened with me.<br /><br />The first thing that struck me about Oz was its brutality and unflinching scenes of violence, which set in right from the word GO. Trust me, this is not a show for the faint hearted or timid. This show pulls no punches with regards to drugs, sex or violence. Its is hardcore, in the classic use of the word.<br /><br />It is called OZ as that is the nickname given to the Oswald Maximum Security State Penitentary. It focuses mainly on Emerald City, an experimental section of the prison where all the cells have glass fronts and face inwards, so privacy is not high on the agenda. Em City is home to many..Aryans, Muslims, gangstas, Latinos, Christians, Italians, Irish and more....so scuffles, death stares, dodgy dealings and shady agreements are never far away.<br /><br />I would say the main appeal of the show is due to the fact that it goes where other shows wouldn't dare. Forget pretty pictures painted for mainstream audiences, forget charm, forget romance...OZ doesn't mess around. The first episode I ever saw struck me as so nasty it was surreal, I couldn't say I was ready for it, but as I watched more, I developed a taste for Oz, and got accustomed to the high levels of graphic violence. Not just violence, but injustice (crooked guards who'll be sold out for a nickel, inmates who'll kill on order and get away with it, well mannered, middle class inmates being turned into prison bitches due to their lack of street skills or prison experience) Watching Oz, you may become comfortable with what is uncomfortable viewing....thats if you can get in touch with your darker side.\""
      ]
     },
     "execution_count": 2,
     "metadata": {},
     "output_type": "execute_result"
    }
   ],
   "source": [
    "review_1=data.loc[0,'review']\n",
    "review_1"
   ]
  },
  {
   "cell_type": "markdown",
   "metadata": {},
   "source": [
    "    the text is not clean, there're are syntax html and noise in word like punctuatuons and many more. we want to remove them"
   ]
  },
  {
   "cell_type": "code",
   "execution_count": 3,
   "metadata": {},
   "outputs": [
    {
     "data": {
      "text/plain": [
       "\"One of the other reviewers has mentioned that after watching just 1 Oz episode you'll be hooked. They are right, as this is exactly what happened with me.The first thing that struck me about Oz was its brutality and unflinching scenes of violence, which set in right from the word GO. Trust me, this is not a show for the faint hearted or timid. This show pulls no punches with regards to drugs, sex or violence. Its is hardcore, in the classic use of the word.It is called OZ as that is the nickname given to the Oswald Maximum Security State Penitentary. It focuses mainly on Emerald City, an experimental section of the prison where all the cells have glass fronts and face inwards, so privacy is not high on the agenda. Em City is home to many..Aryans, Muslims, gangstas, Latinos, Christians, Italians, Irish and more....so scuffles, death stares, dodgy dealings and shady agreements are never far away.I would say the main appeal of the show is due to the fact that it goes where other shows wouldn't dare. Forget pretty pictures painted for mainstream audiences, forget charm, forget romance...OZ doesn't mess around. The first episode I ever saw struck me as so nasty it was surreal, I couldn't say I was ready for it, but as I watched more, I developed a taste for Oz, and got accustomed to the high levels of graphic violence. Not just violence, but injustice (crooked guards who'll be sold out for a nickel, inmates who'll kill on order and get away with it, well mannered, middle class inmates being turned into prison bitches due to their lack of street skills or prison experience) Watching Oz, you may become comfortable with what is uncomfortable viewing....thats if you can get in touch with your darker side.\""
      ]
     },
     "execution_count": 3,
     "metadata": {},
     "output_type": "execute_result"
    }
   ],
   "source": [
    "#remove html tags\n",
    "from bs4 import BeautifulSoup\n",
    "clean_text=BeautifulSoup(review_1,\"html.parser\").get_text()\n",
    "clean_text"
   ]
  },
  {
   "cell_type": "markdown",
   "metadata": {},
   "source": [
    "    There's no html text in the sentence. but there'es elipsis (three dots in the text), we should remove unless there're important test for meaning"
   ]
  },
  {
   "cell_type": "code",
   "execution_count": 4,
   "metadata": {},
   "outputs": [
    {
     "data": {
      "text/plain": [
       "\"One of the other reviewers has mentioned that after watching just 1 Oz episode you'll be hooked. They are right, as this is exactly what happened with me.The first thing that struck me about Oz was its brutality and unflinching scenes of violence, which set in right from the word GO. Trust me, this is not a show for the faint hearted or timid. This show pulls no punches with regards to drugs, sex or violence. Its is hardcore, in the classic use of the word.It is called OZ as that is the nickname given to the Oswald Maximum Security State Penitentary. It focuses mainly on Emerald City, an experimental section of the prison where all the cells have glass fronts and face inwards, so privacy is not high on the agenda. Em City is home to many Aryans, Muslims, gangstas, Latinos, Christians, Italians, Irish and more .so scuffles, death stares, dodgy dealings and shady agreements are never far away.I would say the main appeal of the show is due to the fact that it goes where other shows wouldn't dare. Forget pretty pictures painted for mainstream audiences, forget charm, forget romance OZ doesn't mess around. The first episode I ever saw struck me as so nasty it was surreal, I couldn't say I was ready for it, but as I watched more, I developed a taste for Oz, and got accustomed to the high levels of graphic violence. Not just violence, but injustice (crooked guards who'll be sold out for a nickel, inmates who'll kill on order and get away with it, well mannered, middle class inmates being turned into prison bitches due to their lack of street skills or prison experience) Watching Oz, you may become comfortable with what is uncomfortable viewing .thats if you can get in touch with your darker side.\""
      ]
     },
     "execution_count": 4,
     "metadata": {},
     "output_type": "execute_result"
    }
   ],
   "source": [
    "#\\.\\.\\.|\\.\\. remove .... and .. in text and change \" \" spacing\n",
    "import re\n",
    "clean_text_elip=re.sub(r\"\\.\\.\\.|\\.\\.\",\" \",clean_text)\n",
    "clean_text_elip"
   ]
  },
  {
   "cell_type": "markdown",
   "metadata": {},
   "source": [
    "**missing space after .**: find the word using ?<= (before) and ?=(after) in regex. write in () like grouping in write in [] matching that you want search"
   ]
  },
  {
   "cell_type": "code",
   "execution_count": 5,
   "metadata": {},
   "outputs": [
    {
     "data": {
      "text/plain": [
       "['as this is exactly what happened with me',\n",
       " 'in the classic use of the word',\n",
       " 'Irish and more ',\n",
       " 'dodgy dealings and shady agreements are never far away',\n",
       " 'you may become comfortable with what is uncomfortable viewing ']"
      ]
     },
     "execution_count": 5,
     "metadata": {},
     "output_type": "execute_result"
    }
   ],
   "source": [
    "find_word=re.findall(r\"(\\b[a-zA-Z\\s]+)\\.(?=[a-zA-Z])\", clean_text_elip)\n",
    "#  Irish and more .so scuffles, \n",
    "#f the word.It is called OZ\n",
    "find_word"
   ]
  },
  {
   "cell_type": "markdown",
   "metadata": {},
   "source": [
    "r\"(\\b[a-zA-Z\\s]+)\\.(?=[a-zA-Z]) explanation:"
   ]
  },
  {
   "cell_type": "markdown",
   "metadata": {},
   "source": [
    "- we want find sentence so using \\b (boundary text) \n",
    "-   \"+\" means that one and more letter, so we can get full words, without it we get single letter, + heplp us extract full words \n",
    "- \\s is space\n"
   ]
  },
  {
   "cell_type": "code",
   "execution_count": 6,
   "metadata": {},
   "outputs": [
    {
     "data": {
      "text/plain": [
       "\"One of the other reviewers has mentioned that after watching just 1 Oz episode you'll be hooked. They are right, as this is exactly what happened with me. The first thing that struck me about Oz was its brutality and unflinching scenes of violence, which set in right from the word GO. Trust me, this is not a show for the faint hearted or timid. This show pulls no punches with regards to drugs, sex or violence. Its is hardcore, in the classic use of the word. It is called OZ as that is the nickname given to the Oswald Maximum Security State Penitentary. It focuses mainly on Emerald City, an experimental section of the prison where all the cells have glass fronts and face inwards, so privacy is not high on the agenda. Em City is home to many Aryans, Muslims, gangstas, Latinos, Christians, Italians, Irish and more . so scuffles, death stares, dodgy dealings and shady agreements are never far away. I would say the main appeal of the show is due to the fact that it goes where other shows wouldn't dare. Forget pretty pictures painted for mainstream audiences, forget charm, forget romance OZ doesn't mess around. The first episode I ever saw struck me as so nasty it was surreal, I couldn't say I was ready for it, but as I watched more, I developed a taste for Oz, and got accustomed to the high levels of graphic violence. Not just violence, but injustice (crooked guards who'll be sold out for a nickel, inmates who'll kill on order and get away with it, well mannered, middle class inmates being turned into prison bitches due to their lack of street skills or prison experience) Watching Oz, you may become comfortable with what is uncomfortable viewing . thats if you can get in touch with your darker side.\""
      ]
     },
     "execution_count": 6,
     "metadata": {},
     "output_type": "execute_result"
    }
   ],
   "source": [
    "#add space after . if after . in the text is not space\n",
    "clean_text2=re.sub(r\"(?<=[a-zA-Z\\s])\\.(?=[a-zA-Z])\",\". \",clean_text_elip)\n",
    "clean_text2"
   ]
  },
  {
   "cell_type": "code",
   "execution_count": 7,
   "metadata": {},
   "outputs": [
    {
     "data": {
      "text/plain": [
       "\"One of the other reviewers has mentioned that after watching just 1 Oz episode you'll be hooked. They are right, as this is exactly what happened with me. The first thing that struck me about Oz was its brutality and unflinching scenes of violence, which set in right from the word GO. Trust me, this is not a show for the faint hearted or timid. This show pulls no punches with regards to drugs, sex or violence. Its is hardcore, in the classic use of the word. It is called OZ as that is the nickname given to the Oswald Maximum Security State Penitentary. It focuses mainly on Emerald City, an experimental section of the prison where all the cells have glass fronts and face inwards, so privacy is not high on the agenda. Em City is home to many Aryans, Muslims, gangstas, Latinos, Christians, Italians, Irish and more. so scuffles, death stares, dodgy dealings and shady agreements are never far away. I would say the main appeal of the show is due to the fact that it goes where other shows wouldn't dare. Forget pretty pictures painted for mainstream audiences, forget charm, forget romance OZ doesn't mess around. The first episode I ever saw struck me as so nasty it was surreal, I couldn't say I was ready for it, but as I watched more, I developed a taste for Oz, and got accustomed to the high levels of graphic violence. Not just violence, but injustice (crooked guards who'll be sold out for a nickel, inmates who'll kill on order and get away with it, well mannered, middle class inmates being turned into prison bitches due to their lack of street skills or prison experience) Watching Oz, you may become comfortable with what is uncomfortable viewing. thats if you can get in touch with your darker side.\""
      ]
     },
     "execution_count": 7,
     "metadata": {},
     "output_type": "execute_result"
    }
   ],
   "source": [
    "#remove space before .\n",
    "clean_text3=re.sub(r\"\\s\\.\",\".\",clean_text2)\n",
    "clean_text3"
   ]
  },
  {
   "cell_type": "code",
   "execution_count": 8,
   "metadata": {},
   "outputs": [
    {
     "data": {
      "text/plain": [
       "\"One of the other reviewers has mentioned that after watching just 1 Oz episode you'll be hooked. They are right, as this is exactly what happened with me. The first thing that struck me about Oz was its brutality and unflinching scenes of violence, which set in right from the word GO. Trust me, this is not a show for the faint hearted or timid. This show pulls no punches with regards to drugs, sex or violence. Its is hardcore, in the classic use of the word. It is called OZ as that is the nickname given to the Oswald Maximum Security State Penitentary. It focuses mainly on Emerald City, an experimental section of the prison where all the cells have glass fronts and face inwards, so privacy is not high on the agenda. Em City is home to many Aryans, Muslims, gangstas, Latinos, Christians, Italians, Irish and more. So scuffles, death stares, dodgy dealings and shady agreements are never far away. I would say the main appeal of the show is due to the fact that it goes where other shows wouldn't dare. Forget pretty pictures painted for mainstream audiences, forget charm, forget romance OZ doesn't mess around. The first episode I ever saw struck me as so nasty it was surreal, I couldn't say I was ready for it, but as I watched more, I developed a taste for Oz, and got accustomed to the high levels of graphic violence. Not just violence, but injustice (crooked guards who'll be sold out for a nickel, inmates who'll kill on order and get away with it, well mannered, middle class inmates being turned into prison bitches due to their lack of street skills or prison experience) Watching Oz, you may become comfortable with what is uncomfortable viewing. Thats if you can get in touch with your darker side.\""
      ]
     },
     "execution_count": 8,
     "metadata": {},
     "output_type": "execute_result"
    }
   ],
   "source": [
    "#change uppercase when after .  is lowercase\n",
    "#group (1) only first word. group(1) get info from [a-z] or get first letter after .\n",
    "def upper(x):\n",
    "    return \". \"+x.group(1).upper()\n",
    "clean_text4=re.sub(r\"\\.\\s([a-z])\",upper,clean_text3)\n",
    "clean_text4"
   ]
  },
  {
   "cell_type": "code",
   "execution_count": 9,
   "metadata": {},
   "outputs": [
    {
     "data": {
      "text/plain": [
       "['Oz',\n",
       " 'Oz',\n",
       " 'Oswald',\n",
       " 'Maximum',\n",
       " 'Security',\n",
       " 'State',\n",
       " 'Penitentary',\n",
       " 'Emerald',\n",
       " 'City',\n",
       " 'City',\n",
       " 'Aryans',\n",
       " 'Muslims',\n",
       " 'Latinos',\n",
       " 'Christians',\n",
       " 'Italians',\n",
       " 'Irish',\n",
       " 'Oz',\n",
       " 'Watching',\n",
       " 'Oz']"
      ]
     },
     "execution_count": 9,
     "metadata": {},
     "output_type": "execute_result"
    }
   ],
   "source": [
    "find_word2=re.findall(r\"(?<=\\s)(?<!\\.\\s)\\b[A-Z][a-z0-9]+\", clean_text4)\n",
    "find_word2"
   ]
  },
  {
   "cell_type": "code",
   "execution_count": 10,
   "metadata": {},
   "outputs": [
    {
     "name": "stdout",
     "output_type": "stream",
     "text": [
      "Oz:PROPN\n",
      "Oz:PROPN\n",
      "Oswald:PROPN\n",
      "Maximum:PROPN\n",
      "Security:PROPN\n",
      "State:PROPN\n",
      "Penitentary:PROPN\n",
      "Emerald:PROPN\n",
      "City:PROPN\n",
      "City:PROPN\n",
      "Aryans:PROPN\n",
      "Muslims:PROPN\n",
      "Latinos:PROPN\n",
      "Christians:PROPN\n",
      "Italians:PROPN\n",
      "Irish:PROPN\n",
      "Oz:PROPN\n",
      "Watching:PROPN\n",
      "Oz:PROPN\n"
     ]
    }
   ],
   "source": [
    "import spacy\n",
    "nlp=spacy.load(\"en_core_web_sm\")\n",
    "doc=nlp(\" \".join(find_word2))\n",
    "for i in doc:\n",
    "    print(i.text+\":\"+i.pos_)"
   ]
  },
  {
   "cell_type": "markdown",
   "metadata": {},
   "source": [
    "    since its dificult to distingusih word noun or not we using spacy"
   ]
  },
  {
   "cell_type": "code",
   "execution_count": 11,
   "metadata": {},
   "outputs": [
    {
     "data": {
      "text/plain": [
       "[\"One of the other reviewers has mentioned that after watching just 1 Oz episode you'll be hooked.\",\n",
       " 'They are right, as this is exactly what happened with me.',\n",
       " 'The first thing that struck me about Oz was its brutality and unflinching scenes of violence, which set in right from the word GO.',\n",
       " 'Trust me, this is not a show for the faint hearted or timid.',\n",
       " 'This show pulls no punches with regards to drugs, sex or violence.',\n",
       " 'Its is hardcore, in the classic use of the word.',\n",
       " 'It is called OZ as that is the nickname given to the Oswald Maximum Security State Penitentary.',\n",
       " 'It focuses mainly on Emerald City, an experimental section of the prison where all the cells have glass fronts and face inwards, so privacy is not high on the agenda.',\n",
       " 'Em City is home to many Aryans, Muslims, gangstas, Latinos, Christians, Italians, Irish and more.',\n",
       " 'So scuffles, death stares, dodgy dealings and shady agreements are never far away.',\n",
       " \"I would say the main appeal of the show is due to the fact that it goes where other shows wouldn't dare.\",\n",
       " \"Forget pretty pictures painted for mainstream audiences, forget charm, forget romance OZ doesn't mess around.\",\n",
       " \"The first episode I ever saw struck me as so nasty it was surreal, I couldn't say I was ready for it, but as I watched more, I developed a taste for Oz, and got accustomed to the high levels of graphic violence.\",\n",
       " \"Not just violence, but injustice (crooked guards who'll be sold out for a nickel, inmates who'll kill on order and get away with it, well mannered, middle class inmates being turned into prison bitches due to their lack of street skills or prison experience)\",\n",
       " 'Watching Oz, you may become comfortable with what is uncomfortable viewing.',\n",
       " 'Thats if you can get in touch with your darker side.']"
      ]
     },
     "execution_count": 11,
     "metadata": {},
     "output_type": "execute_result"
    }
   ],
   "source": [
    "### import spacy\n",
    "nlp=spacy.load(\"en_core_web_sm\")\n",
    "#make doc\n",
    "doc=nlp(clean_text4)\n",
    "#token sentences\n",
    "sentence=[i.text for i in doc.sents]\n",
    "sentence"
   ]
  },
  {
   "cell_type": "markdown",
   "metadata": {},
   "source": [
    "# SCORING SENTIMENT"
   ]
  },
  {
   "cell_type": "markdown",
   "metadata": {},
   "source": [
    "- lexicon based (+positive, -negative, and netral)\n",
    "- Machine learning approach"
   ]
  },
  {
   "cell_type": "markdown",
   "metadata": {},
   "source": [
    "**Machine Learning Approach** : using BERT, its deep learning like brain human who can recognize context of the text\n"
   ]
  },
  {
   "cell_type": "markdown",
   "metadata": {},
   "source": [
    "**1. Embbeding** : convert raw text into number"
   ]
  },
  {
   "cell_type": "code",
   "execution_count": 12,
   "metadata": {
    "scrolled": true
   },
   "outputs": [
    {
     "name": "stderr",
     "output_type": "stream",
     "text": [
      "C:\\Users\\User\\Anaconda3\\envs\\nlp_env\\lib\\site-packages\\tqdm\\auto.py:21: TqdmWarning: IProgress not found. Please update jupyter and ipywidgets. See https://ipywidgets.readthedocs.io/en/stable/user_install.html\n",
      "  from .autonotebook import tqdm as notebook_tqdm\n"
     ]
    },
    {
     "name": "stdout",
     "output_type": "stream",
     "text": [
      "{'input_ids': tensor([[  101,  2028,  1997,  1996,  2060, 15814,  2038,  3855,  2008,  2044,\n",
      "          3666,  2074,  1015, 11472,  2792,  2017,  1005,  2222,  2022, 13322,\n",
      "          1012,   102]]), 'token_type_ids': tensor([[0, 0, 0, 0, 0, 0, 0, 0, 0, 0, 0, 0, 0, 0, 0, 0, 0, 0, 0, 0, 0, 0]]), 'attention_mask': tensor([[1, 1, 1, 1, 1, 1, 1, 1, 1, 1, 1, 1, 1, 1, 1, 1, 1, 1, 1, 1, 1, 1]])}\n"
     ]
    }
   ],
   "source": [
    "from transformers import BertTokenizer, BertModel\n",
    "#define tokenizer\n",
    "tokenizer=BertTokenizer.from_pretrained('bert-base-uncased')\n",
    "#token the sentence\n",
    "sentence_1=sentence[0]\n",
    "token=tokenizer(sentence_1,return_tensors=\"pt\")\n",
    "print(token)"
   ]
  },
  {
   "cell_type": "markdown",
   "metadata": {},
   "source": [
    "- retur_tensors = pt, the output is tensor array\n",
    "- input_ids = 101 is penanda awal kalimat, dan 102 merupakan penanda akhir pada kalimat, kemudian setiap kata pada kalimat memiliki id\n",
    "- token type id= karena inpunt nya cuma singgle input maka type id 0 semua, (token type id digunakan jka ada pairing antra context dan pertanyaan, kegunaaannya untuk membedakan tersebut\n",
    "- attenti mask 1 means they are real token and should use to input the model, attention mask is 0 they are padding"
   ]
  },
  {
   "cell_type": "markdown",
   "metadata": {},
   "source": [
    "**Bagaimana dengan satu paragraph**"
   ]
  },
  {
   "cell_type": "code",
   "execution_count": 15,
   "metadata": {},
   "outputs": [
    {
     "name": "stdout",
     "output_type": "stream",
     "text": [
      "tensor([[  101,  2028,  1997,  1996,  2060, 15814,  2038,  3855,  2008,  2044,\n",
      "          3666,  2074,  1015, 11472,  2792,  2017,  1005,  2222,  2022, 13322,\n",
      "          1012,  2027,  2024,  2157,  1010,  2004,  2023,  2003,  3599,  2054,\n",
      "          3047,  2007,  2033,  1012,  1996,  2034,  2518,  2008,  4930,  2033,\n",
      "          2055, 11472,  2001,  2049, 24083,  1998,  4895, 10258,  2378,  8450,\n",
      "          5019,  1997,  4808,  1010,  2029,  2275,  1999,  2157,  2013,  1996,\n",
      "          2773,  2175,  1012,  3404,  2033,  1010,  2023,  2003,  2025,  1037,\n",
      "          2265,  2005,  1996,  8143, 18627,  2030,  5199,  3593,  1012,  2023,\n",
      "          2265,  8005,  2053, 17957,  2007, 12362,  2000,  5850,  1010,  3348,\n",
      "          2030,  4808,  1012,  2049,  2003, 13076,  1010,  1999,  1996,  4438,\n",
      "          2224,  1997,  1996,  2773,  1012,  2009,  2003,  2170, 11472,  2004,\n",
      "          2008,  2003,  1996,  8367,  2445,  2000,  1996, 17411,  4555,  3036,\n",
      "          2110,  7279,  4221, 12380,  2854,  1012,  2009,  7679,  3701,  2006,\n",
      "         14110,  2103,  1010,  2019,  6388,  2930,  1997,  1996,  3827,  2073,\n",
      "          2035,  1996,  4442,  2031,  3221, 21430,  1998,  2227, 20546,  2015,\n",
      "          1010,  2061,  9394,  2003,  2025,  2152,  2006,  1996, 11376,  1012,\n",
      "          7861,  2103,  2003,  2188,  2000,  2116, 26030,  2015,  1010,  7486,\n",
      "          1010, 18542, 10230,  1010,  7402,  2015,  1010,  8135,  1010, 16773,\n",
      "          1010,  3493,  1998,  2062,  1012,  2061,  8040, 16093, 28331,  1010,\n",
      "          2331, 14020,  1010, 26489,  6292, 24069,  1998, 22824, 10540,  2024,\n",
      "          2196,  2521,  2185,  1012,  1045,  2052,  2360,  1996,  2364,  5574,\n",
      "          1997,  1996,  2265,  2003,  2349,  2000,  1996,  2755,  2008,  2009,\n",
      "          3632,  2073,  2060,  3065,  2876,  1005,  1056,  8108,  1012,  5293,\n",
      "          3492,  4620,  4993,  2005,  7731,  9501,  1010,  5293, 11084,  1010,\n",
      "          5293,  7472, 11472,  2987,  1005,  1056,  6752,  2105,  1012,  1996,\n",
      "          2034,  2792,  1045,  2412,  2387,  4930,  2033,  2004,  2061, 11808,\n",
      "          2009,  2001, 16524,  1010,  1045,  2481,  1005,  1056,  2360,  1045,\n",
      "          2001,  3201,  2005,  2009,  1010,  2021,  2004,  1045,  3427,  2062,\n",
      "          1010,  1045,  2764,  1037,  5510,  2005, 11472,  1010,  1998,  2288,\n",
      "         17730,  2000,  1996,  2152,  3798,  1997,  8425,  4808,  1012,  2025,\n",
      "          2074,  4808,  1010,  2021, 21321,  1006, 15274,  4932,  2040,  1005,\n",
      "          2222,  2022,  2853,  2041,  2005,  1037, 15519,  1010, 13187,  2040,\n",
      "          1005,  2222,  3102,  2006,  2344,  1998,  2131,  2185,  2007,  2009,\n",
      "          1010,  2092,  5450,  2098,  1010,  2690,  2465, 13187,  2108,  2357,\n",
      "          2046,  3827,  7743,  2229,  2349,  2000,  2037,  3768,  1997,  2395,\n",
      "          4813,  2030,  3827,  3325,  1007,  3666, 11472,  1010,  2017,  2089,\n",
      "          2468,  6625,  2007,  2054,  2003,  8796, 10523,  1012,  2008,  2015,\n",
      "          2065,  2017,  2064,  2131,  1999,  3543,  2007,  2115,  9904,  2217,\n",
      "          1012,   102,     0,     0,     0,     0,     0,     0,     0,     0,\n",
      "             0,     0,     0,     0,     0,     0,     0,     0,     0,     0,\n",
      "             0,     0,     0,     0,     0,     0,     0,     0,     0,     0,\n",
      "             0,     0,     0,     0,     0,     0,     0,     0,     0,     0,\n",
      "             0,     0,     0,     0,     0,     0,     0,     0,     0,     0,\n",
      "             0,     0,     0,     0,     0,     0,     0,     0,     0,     0,\n",
      "             0,     0,     0,     0,     0,     0,     0,     0,     0,     0,\n",
      "             0,     0,     0,     0,     0,     0,     0,     0,     0,     0,\n",
      "             0,     0,     0,     0,     0,     0,     0,     0,     0,     0,\n",
      "             0,     0,     0,     0,     0,     0,     0,     0,     0,     0,\n",
      "             0,     0,     0,     0,     0,     0,     0,     0,     0,     0,\n",
      "             0,     0,     0,     0,     0,     0,     0,     0,     0,     0,\n",
      "             0,     0,     0,     0,     0,     0,     0,     0,     0,     0,\n",
      "             0,     0]])\n"
     ]
    }
   ],
   "source": [
    "from transformers import BertTokenizer, BertModel\n",
    "tokenizer=BertTokenizer.from_pretrained('bert-base-uncased')\n",
    "review=clean_text4\n",
    "token_review=tokenizer(\n",
    "    review,\n",
    "    truncation=True, #if token excedd number of token\n",
    "    max_length=512, #maximum tokeno\n",
    "    padding=\"max_length\",\n",
    "    return_tensors=\"pt\"\n",
    "\n",
    "\n",
    ")\n",
    "\n",
    "print(token_review[\"input_ids\"])"
   ]
  },
  {
   "cell_type": "markdown",
   "metadata": {},
   "source": [
    "- for this is result they're padding in a tokenize, padding is not impact of meaning but impact on model (since model processed unimportant value)"
   ]
  },
  {
   "cell_type": "markdown",
   "metadata": {},
   "source": [
    "**solution 1 to handle padding** : sliding window, its like you just have 512 word to read, instead of forgetting everything you remember 50 word before tuning."
   ]
  },
  {
   "cell_type": "code",
   "execution_count": 19,
   "metadata": {},
   "outputs": [
    {
     "name": "stdout",
     "output_type": "stream",
     "text": [
      "tensor([[  101,  2028,  1997,  1996,  2060, 15814,  2038,  3855,  2008,  2044,\n",
      "          3666,  2074,  1015, 11472,  2792,  2017,  1005,  2222,  2022, 13322,\n",
      "          1012,  2027,  2024,  2157,  1010,  2004,  2023,  2003,  3599,  2054,\n",
      "          3047,  2007,  2033,  1012,  1996,  2034,  2518,  2008,  4930,  2033,\n",
      "          2055, 11472,  2001,  2049, 24083,  1998,  4895, 10258,  2378,  8450,\n",
      "          5019,  1997,  4808,  1010,  2029,  2275,  1999,  2157,  2013,  1996,\n",
      "          2773,  2175,  1012,  3404,  2033,  1010,  2023,  2003,  2025,  1037,\n",
      "          2265,  2005,  1996,  8143, 18627,  2030,  5199,  3593,  1012,  2023,\n",
      "          2265,  8005,  2053, 17957,  2007, 12362,  2000,  5850,  1010,  3348,\n",
      "          2030,  4808,  1012,  2049,  2003, 13076,  1010,  1999,  1996,  4438,\n",
      "          2224,  1997,  1996,  2773,  1012,  2009,  2003,  2170, 11472,  2004,\n",
      "          2008,  2003,  1996,  8367,  2445,  2000,  1996, 17411,  4555,  3036,\n",
      "          2110,  7279,  4221, 12380,  2854,  1012,  2009,  7679,  3701,  2006,\n",
      "         14110,  2103,  1010,  2019,  6388,  2930,  1997,  1996,  3827,  2073,\n",
      "          2035,  1996,  4442,  2031,  3221, 21430,  1998,  2227, 20546,  2015,\n",
      "          1010,  2061,  9394,  2003,  2025,  2152,  2006,  1996, 11376,  1012,\n",
      "          7861,  2103,  2003,  2188,  2000,  2116, 26030,  2015,  1010,  7486,\n",
      "          1010, 18542, 10230,  1010,  7402,  2015,  1010,  8135,  1010, 16773,\n",
      "          1010,  3493,  1998,  2062,  1012,  2061,  8040, 16093, 28331,  1010,\n",
      "          2331, 14020,  1010, 26489,  6292, 24069,  1998, 22824, 10540,  2024,\n",
      "          2196,  2521,  2185,  1012,  1045,  2052,  2360,  1996,  2364,  5574,\n",
      "          1997,  1996,  2265,  2003,  2349,  2000,  1996,  2755,  2008,  2009,\n",
      "          3632,  2073,  2060,  3065,  2876,  1005,  1056,  8108,  1012,  5293,\n",
      "          3492,  4620,  4993,  2005,  7731,  9501,  1010,  5293, 11084,  1010,\n",
      "          5293,  7472, 11472,  2987,  1005,  1056,  6752,  2105,  1012,  1996,\n",
      "          2034,  2792,  1045,  2412,  2387,  4930,  2033,  2004,  2061, 11808,\n",
      "          2009,  2001, 16524,  1010,  1045,  2481,  1005,  1056,  2360,  1045,\n",
      "          2001,  3201,  2005,  2009,  1010,  2021,  2004,  1045,  3427,  2062,\n",
      "          1010,  1045,  2764,  1037,  5510,  2005, 11472,  1010,  1998,  2288,\n",
      "         17730,  2000,  1996,  2152,  3798,  1997,  8425,  4808,  1012,  2025,\n",
      "          2074,  4808,  1010,  2021, 21321,  1006, 15274,  4932,  2040,  1005,\n",
      "          2222,  2022,  2853,  2041,  2005,  1037, 15519,  1010, 13187,  2040,\n",
      "          1005,  2222,  3102,  2006,  2344,  1998,  2131,  2185,  2007,  2009,\n",
      "          1010,  2092,  5450,  2098,  1010,  2690,  2465, 13187,  2108,  2357,\n",
      "          2046,  3827,  7743,  2229,  2349,  2000,  2037,  3768,  1997,  2395,\n",
      "          4813,  2030,  3827,  3325,  1007,  3666, 11472,  1010,  2017,  2089,\n",
      "          2468,  6625,  2007,  2054,  2003,  8796, 10523,  1012,  2008,  2015,\n",
      "          2065,  2017,  2064,  2131,  1999,  3543,  2007,  2115,  9904,  2217,\n",
      "          1012,   102]])\n"
     ]
    }
   ],
   "source": [
    "token_review_ch=tokenizer(\n",
    "    review,\n",
    "    truncation=True, #if token excedd number of token\n",
    "    max_length=512, #maximum tokeno\n",
    "    stride=50, #keep 50 token from previous chunk,\n",
    "    return_overflowing_tokens=True,\n",
    "    return_tensors=\"pt\"\n",
    "\n",
    "\n",
    ")\n",
    "print(token_review_ch['input_ids'])"
   ]
  }
 ],
 "metadata": {
  "kernelspec": {
   "display_name": "nlp",
   "language": "python",
   "name": "nlp_env"
  },
  "language_info": {
   "codemirror_mode": {
    "name": "ipython",
    "version": 3
   },
   "file_extension": ".py",
   "mimetype": "text/x-python",
   "name": "python",
   "nbconvert_exporter": "python",
   "pygments_lexer": "ipython3",
   "version": "3.9.21"
  }
 },
 "nbformat": 4,
 "nbformat_minor": 2
}
