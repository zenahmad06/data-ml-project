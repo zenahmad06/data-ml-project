{
 "cells": [
  {
   "cell_type": "code",
   "execution_count": 113,
   "metadata": {},
   "outputs": [
    {
     "data": {
      "text/html": [
       "<div>\n",
       "<style scoped>\n",
       "    .dataframe tbody tr th:only-of-type {\n",
       "        vertical-align: middle;\n",
       "    }\n",
       "\n",
       "    .dataframe tbody tr th {\n",
       "        vertical-align: top;\n",
       "    }\n",
       "\n",
       "    .dataframe thead th {\n",
       "        text-align: right;\n",
       "    }\n",
       "</style>\n",
       "<table border=\"1\" class=\"dataframe\">\n",
       "  <thead>\n",
       "    <tr style=\"text-align: right;\">\n",
       "      <th></th>\n",
       "      <th>id</th>\n",
       "      <th>day</th>\n",
       "      <th>pressure</th>\n",
       "      <th>maxtemp</th>\n",
       "      <th>temparature</th>\n",
       "      <th>mintemp</th>\n",
       "      <th>dewpoint</th>\n",
       "      <th>humidity</th>\n",
       "      <th>cloud</th>\n",
       "      <th>sunshine</th>\n",
       "      <th>winddirection</th>\n",
       "      <th>windspeed</th>\n",
       "      <th>rainfall</th>\n",
       "    </tr>\n",
       "  </thead>\n",
       "  <tbody>\n",
       "    <tr>\n",
       "      <th>0</th>\n",
       "      <td>0</td>\n",
       "      <td>1</td>\n",
       "      <td>1017.4</td>\n",
       "      <td>21.2</td>\n",
       "      <td>20.6</td>\n",
       "      <td>19.9</td>\n",
       "      <td>19.4</td>\n",
       "      <td>87.0</td>\n",
       "      <td>88.0</td>\n",
       "      <td>1.1</td>\n",
       "      <td>60.0</td>\n",
       "      <td>17.2</td>\n",
       "      <td>1</td>\n",
       "    </tr>\n",
       "    <tr>\n",
       "      <th>1</th>\n",
       "      <td>1</td>\n",
       "      <td>2</td>\n",
       "      <td>1019.5</td>\n",
       "      <td>16.2</td>\n",
       "      <td>16.9</td>\n",
       "      <td>15.8</td>\n",
       "      <td>15.4</td>\n",
       "      <td>95.0</td>\n",
       "      <td>91.0</td>\n",
       "      <td>0.0</td>\n",
       "      <td>50.0</td>\n",
       "      <td>21.9</td>\n",
       "      <td>1</td>\n",
       "    </tr>\n",
       "    <tr>\n",
       "      <th>2</th>\n",
       "      <td>2</td>\n",
       "      <td>3</td>\n",
       "      <td>1024.1</td>\n",
       "      <td>19.4</td>\n",
       "      <td>16.1</td>\n",
       "      <td>14.6</td>\n",
       "      <td>9.3</td>\n",
       "      <td>75.0</td>\n",
       "      <td>47.0</td>\n",
       "      <td>8.3</td>\n",
       "      <td>70.0</td>\n",
       "      <td>18.1</td>\n",
       "      <td>1</td>\n",
       "    </tr>\n",
       "    <tr>\n",
       "      <th>3</th>\n",
       "      <td>3</td>\n",
       "      <td>4</td>\n",
       "      <td>1013.4</td>\n",
       "      <td>18.1</td>\n",
       "      <td>17.8</td>\n",
       "      <td>16.9</td>\n",
       "      <td>16.8</td>\n",
       "      <td>95.0</td>\n",
       "      <td>95.0</td>\n",
       "      <td>0.0</td>\n",
       "      <td>60.0</td>\n",
       "      <td>35.6</td>\n",
       "      <td>1</td>\n",
       "    </tr>\n",
       "    <tr>\n",
       "      <th>4</th>\n",
       "      <td>4</td>\n",
       "      <td>5</td>\n",
       "      <td>1021.8</td>\n",
       "      <td>21.3</td>\n",
       "      <td>18.4</td>\n",
       "      <td>15.2</td>\n",
       "      <td>9.6</td>\n",
       "      <td>52.0</td>\n",
       "      <td>45.0</td>\n",
       "      <td>3.6</td>\n",
       "      <td>40.0</td>\n",
       "      <td>24.8</td>\n",
       "      <td>0</td>\n",
       "    </tr>\n",
       "    <tr>\n",
       "      <th>...</th>\n",
       "      <td>...</td>\n",
       "      <td>...</td>\n",
       "      <td>...</td>\n",
       "      <td>...</td>\n",
       "      <td>...</td>\n",
       "      <td>...</td>\n",
       "      <td>...</td>\n",
       "      <td>...</td>\n",
       "      <td>...</td>\n",
       "      <td>...</td>\n",
       "      <td>...</td>\n",
       "      <td>...</td>\n",
       "      <td>...</td>\n",
       "    </tr>\n",
       "    <tr>\n",
       "      <th>2185</th>\n",
       "      <td>2185</td>\n",
       "      <td>361</td>\n",
       "      <td>1014.6</td>\n",
       "      <td>23.2</td>\n",
       "      <td>20.6</td>\n",
       "      <td>19.1</td>\n",
       "      <td>19.9</td>\n",
       "      <td>97.0</td>\n",
       "      <td>88.0</td>\n",
       "      <td>0.1</td>\n",
       "      <td>40.0</td>\n",
       "      <td>22.1</td>\n",
       "      <td>1</td>\n",
       "    </tr>\n",
       "    <tr>\n",
       "      <th>2186</th>\n",
       "      <td>2186</td>\n",
       "      <td>362</td>\n",
       "      <td>1012.4</td>\n",
       "      <td>17.2</td>\n",
       "      <td>17.3</td>\n",
       "      <td>16.3</td>\n",
       "      <td>15.3</td>\n",
       "      <td>91.0</td>\n",
       "      <td>88.0</td>\n",
       "      <td>0.0</td>\n",
       "      <td>50.0</td>\n",
       "      <td>35.3</td>\n",
       "      <td>1</td>\n",
       "    </tr>\n",
       "    <tr>\n",
       "      <th>2187</th>\n",
       "      <td>2187</td>\n",
       "      <td>363</td>\n",
       "      <td>1013.3</td>\n",
       "      <td>19.0</td>\n",
       "      <td>16.3</td>\n",
       "      <td>14.3</td>\n",
       "      <td>12.6</td>\n",
       "      <td>79.0</td>\n",
       "      <td>79.0</td>\n",
       "      <td>5.0</td>\n",
       "      <td>40.0</td>\n",
       "      <td>32.9</td>\n",
       "      <td>1</td>\n",
       "    </tr>\n",
       "    <tr>\n",
       "      <th>2188</th>\n",
       "      <td>2188</td>\n",
       "      <td>364</td>\n",
       "      <td>1022.3</td>\n",
       "      <td>16.4</td>\n",
       "      <td>15.2</td>\n",
       "      <td>13.8</td>\n",
       "      <td>14.7</td>\n",
       "      <td>92.0</td>\n",
       "      <td>93.0</td>\n",
       "      <td>0.1</td>\n",
       "      <td>40.0</td>\n",
       "      <td>18.0</td>\n",
       "      <td>1</td>\n",
       "    </tr>\n",
       "    <tr>\n",
       "      <th>2189</th>\n",
       "      <td>2189</td>\n",
       "      <td>365</td>\n",
       "      <td>1013.8</td>\n",
       "      <td>21.2</td>\n",
       "      <td>19.1</td>\n",
       "      <td>18.0</td>\n",
       "      <td>18.0</td>\n",
       "      <td>89.0</td>\n",
       "      <td>88.0</td>\n",
       "      <td>1.0</td>\n",
       "      <td>70.0</td>\n",
       "      <td>48.0</td>\n",
       "      <td>1</td>\n",
       "    </tr>\n",
       "  </tbody>\n",
       "</table>\n",
       "<p>2190 rows × 13 columns</p>\n",
       "</div>"
      ],
      "text/plain": [
       "        id  day  pressure  maxtemp  temparature  mintemp  dewpoint  humidity  \\\n",
       "0        0    1    1017.4     21.2         20.6     19.9      19.4      87.0   \n",
       "1        1    2    1019.5     16.2         16.9     15.8      15.4      95.0   \n",
       "2        2    3    1024.1     19.4         16.1     14.6       9.3      75.0   \n",
       "3        3    4    1013.4     18.1         17.8     16.9      16.8      95.0   \n",
       "4        4    5    1021.8     21.3         18.4     15.2       9.6      52.0   \n",
       "...    ...  ...       ...      ...          ...      ...       ...       ...   \n",
       "2185  2185  361    1014.6     23.2         20.6     19.1      19.9      97.0   \n",
       "2186  2186  362    1012.4     17.2         17.3     16.3      15.3      91.0   \n",
       "2187  2187  363    1013.3     19.0         16.3     14.3      12.6      79.0   \n",
       "2188  2188  364    1022.3     16.4         15.2     13.8      14.7      92.0   \n",
       "2189  2189  365    1013.8     21.2         19.1     18.0      18.0      89.0   \n",
       "\n",
       "      cloud  sunshine  winddirection  windspeed  rainfall  \n",
       "0      88.0       1.1           60.0       17.2         1  \n",
       "1      91.0       0.0           50.0       21.9         1  \n",
       "2      47.0       8.3           70.0       18.1         1  \n",
       "3      95.0       0.0           60.0       35.6         1  \n",
       "4      45.0       3.6           40.0       24.8         0  \n",
       "...     ...       ...            ...        ...       ...  \n",
       "2185   88.0       0.1           40.0       22.1         1  \n",
       "2186   88.0       0.0           50.0       35.3         1  \n",
       "2187   79.0       5.0           40.0       32.9         1  \n",
       "2188   93.0       0.1           40.0       18.0         1  \n",
       "2189   88.0       1.0           70.0       48.0         1  \n",
       "\n",
       "[2190 rows x 13 columns]"
      ]
     },
     "execution_count": 113,
     "metadata": {},
     "output_type": "execute_result"
    }
   ],
   "source": [
    "import pandas as pd\n",
    "data=pd.read_csv(\"C:/Users/User/Documents/rainfall_train.csv\")\n",
    "data"
   ]
  },
  {
   "cell_type": "markdown",
   "metadata": {},
   "source": [
    "# Preprocessing Data"
   ]
  },
  {
   "cell_type": "markdown",
   "metadata": {},
   "source": [
    "- missing value"
   ]
  },
  {
   "cell_type": "code",
   "execution_count": 114,
   "metadata": {},
   "outputs": [
    {
     "data": {
      "text/plain": [
       "id               0\n",
       "day              0\n",
       "pressure         0\n",
       "maxtemp          0\n",
       "temparature      0\n",
       "mintemp          0\n",
       "dewpoint         0\n",
       "humidity         0\n",
       "cloud            0\n",
       "sunshine         0\n",
       "winddirection    0\n",
       "windspeed        0\n",
       "rainfall         0\n",
       "dtype: int64"
      ]
     },
     "execution_count": 114,
     "metadata": {},
     "output_type": "execute_result"
    }
   ],
   "source": [
    "data.isnull().sum()"
   ]
  },
  {
   "cell_type": "markdown",
   "metadata": {},
   "source": [
    "there's no missing value in dataset"
   ]
  },
  {
   "cell_type": "markdown",
   "metadata": {},
   "source": [
    "- Dimension of the data"
   ]
  },
  {
   "cell_type": "code",
   "execution_count": 115,
   "metadata": {},
   "outputs": [
    {
     "name": "stdout",
     "output_type": "stream",
     "text": [
      "Len of the rainfall dataset is 2190\n",
      "------------------------\n",
      "variabel of  dataset are ['id', 'day', 'pressure', 'maxtemp', 'temparature', 'mintemp', 'dewpoint', 'humidity', 'cloud', 'sunshine', 'winddirection', 'windspeed', 'rainfall']\n"
     ]
    }
   ],
   "source": [
    "print(f\"Len of the rainfall dataset is {len(data)}\")\n",
    "print('------------------------')\n",
    "print(f\"variabel of  dataset are {data.columns.tolist()}\")\n"
   ]
  },
  {
   "cell_type": "markdown",
   "metadata": {},
   "source": [
    "- type of data"
   ]
  },
  {
   "cell_type": "code",
   "execution_count": 116,
   "metadata": {},
   "outputs": [
    {
     "data": {
      "text/plain": [
       "id                 int64\n",
       "day                int64\n",
       "pressure         float64\n",
       "maxtemp          float64\n",
       "temparature      float64\n",
       "mintemp          float64\n",
       "dewpoint         float64\n",
       "humidity         float64\n",
       "cloud            float64\n",
       "sunshine         float64\n",
       "winddirection    float64\n",
       "windspeed        float64\n",
       "rainfall           int64\n",
       "dtype: object"
      ]
     },
     "execution_count": 116,
     "metadata": {},
     "output_type": "execute_result"
    }
   ],
   "source": [
    "data.dtypes"
   ]
  },
  {
   "cell_type": "markdown",
   "metadata": {},
   "source": [
    "all the variabel is numerical and variabel y has transformed to numerical class"
   ]
  },
  {
   "cell_type": "markdown",
   "metadata": {},
   "source": [
    "# EXPLANATORY DATA ANALYSIS"
   ]
  },
  {
   "cell_type": "markdown",
   "metadata": {},
   "source": [
    "**level of measurement**: Since we cant use all 365 data to visualize, we want to convert data quarterly first and visualize based on that"
   ]
  },
  {
   "cell_type": "markdown",
   "metadata": {},
   "source": [
    "for example"
   ]
  },
  {
   "cell_type": "code",
   "execution_count": 117,
   "metadata": {},
   "outputs": [
    {
     "data": {
      "text/html": [
       "<div>\n",
       "<style scoped>\n",
       "    .dataframe tbody tr th:only-of-type {\n",
       "        vertical-align: middle;\n",
       "    }\n",
       "\n",
       "    .dataframe tbody tr th {\n",
       "        vertical-align: top;\n",
       "    }\n",
       "\n",
       "    .dataframe thead th {\n",
       "        text-align: right;\n",
       "    }\n",
       "</style>\n",
       "<table border=\"1\" class=\"dataframe\">\n",
       "  <thead>\n",
       "    <tr style=\"text-align: right;\">\n",
       "      <th></th>\n",
       "      <th>day</th>\n",
       "      <th>date</th>\n",
       "      <th>quarter</th>\n",
       "    </tr>\n",
       "  </thead>\n",
       "  <tbody>\n",
       "    <tr>\n",
       "      <th>0</th>\n",
       "      <td>1</td>\n",
       "      <td>2024-01-02</td>\n",
       "      <td>Q1</td>\n",
       "    </tr>\n",
       "    <tr>\n",
       "      <th>1</th>\n",
       "      <td>2</td>\n",
       "      <td>2024-01-03</td>\n",
       "      <td>Q1</td>\n",
       "    </tr>\n",
       "    <tr>\n",
       "      <th>2</th>\n",
       "      <td>3</td>\n",
       "      <td>2024-01-04</td>\n",
       "      <td>Q1</td>\n",
       "    </tr>\n",
       "    <tr>\n",
       "      <th>3</th>\n",
       "      <td>4</td>\n",
       "      <td>2024-01-05</td>\n",
       "      <td>Q1</td>\n",
       "    </tr>\n",
       "    <tr>\n",
       "      <th>4</th>\n",
       "      <td>5</td>\n",
       "      <td>2024-01-06</td>\n",
       "      <td>Q1</td>\n",
       "    </tr>\n",
       "  </tbody>\n",
       "</table>\n",
       "</div>"
      ],
      "text/plain": [
       "   day       date quarter\n",
       "0    1 2024-01-02      Q1\n",
       "1    2 2024-01-03      Q1\n",
       "2    3 2024-01-04      Q1\n",
       "3    4 2024-01-05      Q1\n",
       "4    5 2024-01-06      Q1"
      ]
     },
     "execution_count": 117,
     "metadata": {},
     "output_type": "execute_result"
    }
   ],
   "source": [
    "days=data['day']\n",
    "#get date 2024 and matching with day\n",
    "date_per=pd.to_datetime(\"2024-01-01\") + pd.to_timedelta(days,unit='D')\n",
    "matching_data=pd.DataFrame({\n",
    "    'day':days,\n",
    "    'date':date_per\n",
    "})\n",
    "#convert to period Q and acces string using. str and show only last two words\n",
    "matching_data['quarter']=date_per.dt.to_period('Q').astype(str).str[-2:]\n",
    "matching_data.head()\n"
   ]
  },
  {
   "cell_type": "markdown",
   "metadata": {},
   "source": [
    "now we implement it to dataset"
   ]
  },
  {
   "cell_type": "code",
   "execution_count": 118,
   "metadata": {},
   "outputs": [
    {
     "data": {
      "text/html": [
       "<div>\n",
       "<style scoped>\n",
       "    .dataframe tbody tr th:only-of-type {\n",
       "        vertical-align: middle;\n",
       "    }\n",
       "\n",
       "    .dataframe tbody tr th {\n",
       "        vertical-align: top;\n",
       "    }\n",
       "\n",
       "    .dataframe thead th {\n",
       "        text-align: right;\n",
       "    }\n",
       "</style>\n",
       "<table border=\"1\" class=\"dataframe\">\n",
       "  <thead>\n",
       "    <tr style=\"text-align: right;\">\n",
       "      <th></th>\n",
       "      <th>id</th>\n",
       "      <th>day</th>\n",
       "      <th>pressure</th>\n",
       "      <th>maxtemp</th>\n",
       "      <th>temparature</th>\n",
       "      <th>mintemp</th>\n",
       "      <th>dewpoint</th>\n",
       "      <th>humidity</th>\n",
       "      <th>cloud</th>\n",
       "      <th>sunshine</th>\n",
       "      <th>winddirection</th>\n",
       "      <th>windspeed</th>\n",
       "      <th>rainfall</th>\n",
       "      <th>date</th>\n",
       "      <th>quarter</th>\n",
       "    </tr>\n",
       "  </thead>\n",
       "  <tbody>\n",
       "    <tr>\n",
       "      <th>0</th>\n",
       "      <td>0</td>\n",
       "      <td>1</td>\n",
       "      <td>1017.4</td>\n",
       "      <td>21.2</td>\n",
       "      <td>20.6</td>\n",
       "      <td>19.9</td>\n",
       "      <td>19.4</td>\n",
       "      <td>87.0</td>\n",
       "      <td>88.0</td>\n",
       "      <td>1.1</td>\n",
       "      <td>60.0</td>\n",
       "      <td>17.2</td>\n",
       "      <td>1</td>\n",
       "      <td>2024-01-02</td>\n",
       "      <td>Q1</td>\n",
       "    </tr>\n",
       "    <tr>\n",
       "      <th>1</th>\n",
       "      <td>1</td>\n",
       "      <td>2</td>\n",
       "      <td>1019.5</td>\n",
       "      <td>16.2</td>\n",
       "      <td>16.9</td>\n",
       "      <td>15.8</td>\n",
       "      <td>15.4</td>\n",
       "      <td>95.0</td>\n",
       "      <td>91.0</td>\n",
       "      <td>0.0</td>\n",
       "      <td>50.0</td>\n",
       "      <td>21.9</td>\n",
       "      <td>1</td>\n",
       "      <td>2024-01-03</td>\n",
       "      <td>Q1</td>\n",
       "    </tr>\n",
       "    <tr>\n",
       "      <th>2</th>\n",
       "      <td>2</td>\n",
       "      <td>3</td>\n",
       "      <td>1024.1</td>\n",
       "      <td>19.4</td>\n",
       "      <td>16.1</td>\n",
       "      <td>14.6</td>\n",
       "      <td>9.3</td>\n",
       "      <td>75.0</td>\n",
       "      <td>47.0</td>\n",
       "      <td>8.3</td>\n",
       "      <td>70.0</td>\n",
       "      <td>18.1</td>\n",
       "      <td>1</td>\n",
       "      <td>2024-01-04</td>\n",
       "      <td>Q1</td>\n",
       "    </tr>\n",
       "    <tr>\n",
       "      <th>3</th>\n",
       "      <td>3</td>\n",
       "      <td>4</td>\n",
       "      <td>1013.4</td>\n",
       "      <td>18.1</td>\n",
       "      <td>17.8</td>\n",
       "      <td>16.9</td>\n",
       "      <td>16.8</td>\n",
       "      <td>95.0</td>\n",
       "      <td>95.0</td>\n",
       "      <td>0.0</td>\n",
       "      <td>60.0</td>\n",
       "      <td>35.6</td>\n",
       "      <td>1</td>\n",
       "      <td>2024-01-05</td>\n",
       "      <td>Q1</td>\n",
       "    </tr>\n",
       "    <tr>\n",
       "      <th>4</th>\n",
       "      <td>4</td>\n",
       "      <td>5</td>\n",
       "      <td>1021.8</td>\n",
       "      <td>21.3</td>\n",
       "      <td>18.4</td>\n",
       "      <td>15.2</td>\n",
       "      <td>9.6</td>\n",
       "      <td>52.0</td>\n",
       "      <td>45.0</td>\n",
       "      <td>3.6</td>\n",
       "      <td>40.0</td>\n",
       "      <td>24.8</td>\n",
       "      <td>0</td>\n",
       "      <td>2024-01-06</td>\n",
       "      <td>Q1</td>\n",
       "    </tr>\n",
       "  </tbody>\n",
       "</table>\n",
       "</div>"
      ],
      "text/plain": [
       "   id  day  pressure  maxtemp  temparature  mintemp  dewpoint  humidity  \\\n",
       "0   0    1    1017.4     21.2         20.6     19.9      19.4      87.0   \n",
       "1   1    2    1019.5     16.2         16.9     15.8      15.4      95.0   \n",
       "2   2    3    1024.1     19.4         16.1     14.6       9.3      75.0   \n",
       "3   3    4    1013.4     18.1         17.8     16.9      16.8      95.0   \n",
       "4   4    5    1021.8     21.3         18.4     15.2       9.6      52.0   \n",
       "\n",
       "   cloud  sunshine  winddirection  windspeed  rainfall       date quarter  \n",
       "0   88.0       1.1           60.0       17.2         1 2024-01-02      Q1  \n",
       "1   91.0       0.0           50.0       21.9         1 2024-01-03      Q1  \n",
       "2   47.0       8.3           70.0       18.1         1 2024-01-04      Q1  \n",
       "3   95.0       0.0           60.0       35.6         1 2024-01-05      Q1  \n",
       "4   45.0       3.6           40.0       24.8         0 2024-01-06      Q1  "
      ]
     },
     "execution_count": 118,
     "metadata": {},
     "output_type": "execute_result"
    }
   ],
   "source": [
    "data['date']=pd.to_datetime(\"2024-01-01\") + pd.to_timedelta(days,unit='D')\n",
    "data['quarter']=data['date'].dt.to_period('Q').astype(str).str[-2:]\n",
    "data.head()"
   ]
  },
  {
   "cell_type": "code",
   "execution_count": 119,
   "metadata": {},
   "outputs": [
    {
     "data": {
      "text/plain": [
       "array([1017.7046595 , 1009.29333333, 1009.52581818, 1018.05028463])"
      ]
     },
     "execution_count": 119,
     "metadata": {},
     "output_type": "execute_result"
    }
   ],
   "source": [
    "group_pressure=data.groupby('quarter')['pressure'].mean()\n",
    "group_pressure.values"
   ]
  },
  {
   "cell_type": "code",
   "execution_count": 120,
   "metadata": {},
   "outputs": [
    {
     "data": {
      "image/png": "[encoded data removed]",
      "text/plain": [
       "<Figure size 1100x800 with 10 Axes>"
      ]
     },
     "metadata": {},
     "output_type": "display_data"
    }
   ],
   "source": [
    "#defining column x variable\n",
    "kol_x=[i for i in data.columns.tolist() if i!='id' and i!='day' and i!='date' and i!='rainfall' and i!='quarter']\n",
    "#make line plot for all x variable\n",
    "from matplotlib import pyplot as plt\n",
    "nrow=2\n",
    "ncol=5\n",
    "fig,ax=plt.subplots(nrow,ncol,figsize=(11,8))\n",
    "for (i,j),k in zip([(i,j) for i in range(nrow) for j in range(ncol)], kol_x):\n",
    "    group_data=data.groupby('quarter')[k].mean()\n",
    "    xtic=[i for i in range(4)]\n",
    "    plotting=ax[i][j].plot(group_data.index,group_data.values,marker='o')\n",
    "    ax[i][j].set_xticks(xtic)\n",
    "    ax[i][j].spines['top'].set_visible(False)\n",
    "    ax[i][j].spines['right'].set_visible(False)\n",
    "    ax[i][j].spines['left'].set_visible(False)\n",
    "    ax[i][j].set_yticks([])\n",
    "    xval=plotting[0].get_xdata()\n",
    "    yval=plotting[0].get_ydata()\n",
    "    for l,m in zip(xval,yval):\n",
    "        ytex=round(m,2)\n",
    "        ax[i][j].text(l,m,f\"{ytex}\",fontsize=8)\n",
    "    ax[i][j].set_title(f\"{k}\",loc='left',fontweight='bold',fontsize=8)\n",
    "    \n",
    "plt.tight_layout()\n",
    "\n"
   ]
  },
  {
   "cell_type": "markdown",
   "metadata": {},
   "source": [
    "- based on quareter, variabel mintemp, temperature maxtemp, wind direction have same pattern,\n",
    "-  presure, humadity, cloud, and windspeed are increased when we enter Q4"
   ]
  },
  {
   "cell_type": "code",
   "execution_count": 121,
   "metadata": {},
   "outputs": [
    {
     "data": {
      "image/png": "[encoded data removed]",
      "text/plain": [
       "<Figure size 1000x1000 with 4 Axes>"
      ]
     },
     "metadata": {},
     "output_type": "display_data"
    }
   ],
   "source": [
    "fig,ax=plt.subplots(1,4,figsize=(10,10))\n",
    "qua=data['quarter'].unique().tolist()\n",
    "for i,j in zip(ax,qua):\n",
    "    tabel_freq=data[data['quarter']==j]['rainfall'].value_counts()\n",
    "    i.pie(tabel_freq.values,labels=tabel_freq.index,wedgeprops=dict(width=0.3))\n",
    "    i.set_title(f\"distribution of rainfall in \\n{j}\", fontsize=10)\n",
    "plt.tight_layout()"
   ]
  },
  {
   "cell_type": "markdown",
   "metadata": {},
   "source": [
    "- the rainfall 'yess' is dominating in every quarter in a year"
   ]
  },
  {
   "cell_type": "markdown",
   "metadata": {},
   "source": [
    "**Check correlatio in every variable x**"
   ]
  },
  {
   "cell_type": "code",
   "execution_count": 122,
   "metadata": {},
   "outputs": [
    {
     "data": {
      "text/html": [
       "<div>\n",
       "<style scoped>\n",
       "    .dataframe tbody tr th:only-of-type {\n",
       "        vertical-align: middle;\n",
       "    }\n",
       "\n",
       "    .dataframe tbody tr th {\n",
       "        vertical-align: top;\n",
       "    }\n",
       "\n",
       "    .dataframe thead th {\n",
       "        text-align: right;\n",
       "    }\n",
       "</style>\n",
       "<table border=\"1\" class=\"dataframe\">\n",
       "  <thead>\n",
       "    <tr style=\"text-align: right;\">\n",
       "      <th></th>\n",
       "      <th>pressure</th>\n",
       "      <th>maxtemp</th>\n",
       "      <th>temparature</th>\n",
       "      <th>mintemp</th>\n",
       "      <th>dewpoint</th>\n",
       "      <th>humidity</th>\n",
       "      <th>cloud</th>\n",
       "      <th>sunshine</th>\n",
       "      <th>winddirection</th>\n",
       "      <th>windspeed</th>\n",
       "    </tr>\n",
       "  </thead>\n",
       "  <tbody>\n",
       "    <tr>\n",
       "      <th>pressure</th>\n",
       "      <td>1.000000</td>\n",
       "      <td>-0.800499</td>\n",
       "      <td>-0.816531</td>\n",
       "      <td>-0.814453</td>\n",
       "      <td>-0.817008</td>\n",
       "      <td>-0.119949</td>\n",
       "      <td>0.098600</td>\n",
       "      <td>-0.257163</td>\n",
       "      <td>-0.643293</td>\n",
       "      <td>0.266012</td>\n",
       "    </tr>\n",
       "    <tr>\n",
       "      <th>maxtemp</th>\n",
       "      <td>-0.800499</td>\n",
       "      <td>1.000000</td>\n",
       "      <td>0.982932</td>\n",
       "      <td>0.965529</td>\n",
       "      <td>0.906703</td>\n",
       "      <td>-0.072615</td>\n",
       "      <td>-0.289047</td>\n",
       "      <td>0.452387</td>\n",
       "      <td>0.662235</td>\n",
       "      <td>-0.354168</td>\n",
       "    </tr>\n",
       "    <tr>\n",
       "      <th>temparature</th>\n",
       "      <td>-0.816531</td>\n",
       "      <td>0.982932</td>\n",
       "      <td>1.000000</td>\n",
       "      <td>0.987150</td>\n",
       "      <td>0.933617</td>\n",
       "      <td>-0.025016</td>\n",
       "      <td>-0.249355</td>\n",
       "      <td>0.414019</td>\n",
       "      <td>0.668963</td>\n",
       "      <td>-0.342262</td>\n",
       "    </tr>\n",
       "    <tr>\n",
       "      <th>mintemp</th>\n",
       "      <td>-0.814453</td>\n",
       "      <td>0.965529</td>\n",
       "      <td>0.987150</td>\n",
       "      <td>1.000000</td>\n",
       "      <td>0.941342</td>\n",
       "      <td>0.009891</td>\n",
       "      <td>-0.219399</td>\n",
       "      <td>0.379497</td>\n",
       "      <td>0.663828</td>\n",
       "      <td>-0.328871</td>\n",
       "    </tr>\n",
       "    <tr>\n",
       "      <th>dewpoint</th>\n",
       "      <td>-0.817008</td>\n",
       "      <td>0.906703</td>\n",
       "      <td>0.933617</td>\n",
       "      <td>0.941342</td>\n",
       "      <td>1.000000</td>\n",
       "      <td>0.153390</td>\n",
       "      <td>-0.088446</td>\n",
       "      <td>0.249676</td>\n",
       "      <td>0.643073</td>\n",
       "      <td>-0.312179</td>\n",
       "    </tr>\n",
       "    <tr>\n",
       "      <th>humidity</th>\n",
       "      <td>-0.119949</td>\n",
       "      <td>-0.072615</td>\n",
       "      <td>-0.025016</td>\n",
       "      <td>0.009891</td>\n",
       "      <td>0.153390</td>\n",
       "      <td>1.000000</td>\n",
       "      <td>0.584854</td>\n",
       "      <td>-0.541592</td>\n",
       "      <td>-0.012430</td>\n",
       "      <td>0.062285</td>\n",
       "    </tr>\n",
       "    <tr>\n",
       "      <th>cloud</th>\n",
       "      <td>0.098600</td>\n",
       "      <td>-0.289047</td>\n",
       "      <td>-0.249355</td>\n",
       "      <td>-0.219399</td>\n",
       "      <td>-0.088446</td>\n",
       "      <td>0.584854</td>\n",
       "      <td>1.000000</td>\n",
       "      <td>-0.805128</td>\n",
       "      <td>-0.127087</td>\n",
       "      <td>0.184698</td>\n",
       "    </tr>\n",
       "    <tr>\n",
       "      <th>sunshine</th>\n",
       "      <td>-0.257163</td>\n",
       "      <td>0.452387</td>\n",
       "      <td>0.414019</td>\n",
       "      <td>0.379497</td>\n",
       "      <td>0.249676</td>\n",
       "      <td>-0.541592</td>\n",
       "      <td>-0.805128</td>\n",
       "      <td>1.000000</td>\n",
       "      <td>0.272235</td>\n",
       "      <td>-0.241752</td>\n",
       "    </tr>\n",
       "    <tr>\n",
       "      <th>winddirection</th>\n",
       "      <td>-0.643293</td>\n",
       "      <td>0.662235</td>\n",
       "      <td>0.668963</td>\n",
       "      <td>0.663828</td>\n",
       "      <td>0.643073</td>\n",
       "      <td>-0.012430</td>\n",
       "      <td>-0.127087</td>\n",
       "      <td>0.272235</td>\n",
       "      <td>1.000000</td>\n",
       "      <td>-0.192417</td>\n",
       "    </tr>\n",
       "    <tr>\n",
       "      <th>windspeed</th>\n",
       "      <td>0.266012</td>\n",
       "      <td>-0.354168</td>\n",
       "      <td>-0.342262</td>\n",
       "      <td>-0.328871</td>\n",
       "      <td>-0.312179</td>\n",
       "      <td>0.062285</td>\n",
       "      <td>0.184698</td>\n",
       "      <td>-0.241752</td>\n",
       "      <td>-0.192417</td>\n",
       "      <td>1.000000</td>\n",
       "    </tr>\n",
       "  </tbody>\n",
       "</table>\n",
       "</div>"
      ],
      "text/plain": [
       "               pressure   maxtemp  temparature   mintemp  dewpoint  humidity  \\\n",
       "pressure       1.000000 -0.800499    -0.816531 -0.814453 -0.817008 -0.119949   \n",
       "maxtemp       -0.800499  1.000000     0.982932  0.965529  0.906703 -0.072615   \n",
       "temparature   -0.816531  0.982932     1.000000  0.987150  0.933617 -0.025016   \n",
       "mintemp       -0.814453  0.965529     0.987150  1.000000  0.941342  0.009891   \n",
       "dewpoint      -0.817008  0.906703     0.933617  0.941342  1.000000  0.153390   \n",
       "humidity      -0.119949 -0.072615    -0.025016  0.009891  0.153390  1.000000   \n",
       "cloud          0.098600 -0.289047    -0.249355 -0.219399 -0.088446  0.584854   \n",
       "sunshine      -0.257163  0.452387     0.414019  0.379497  0.249676 -0.541592   \n",
       "winddirection -0.643293  0.662235     0.668963  0.663828  0.643073 -0.012430   \n",
       "windspeed      0.266012 -0.354168    -0.342262 -0.328871 -0.312179  0.062285   \n",
       "\n",
       "                  cloud  sunshine  winddirection  windspeed  \n",
       "pressure       0.098600 -0.257163      -0.643293   0.266012  \n",
       "maxtemp       -0.289047  0.452387       0.662235  -0.354168  \n",
       "temparature   -0.249355  0.414019       0.668963  -0.342262  \n",
       "mintemp       -0.219399  0.379497       0.663828  -0.328871  \n",
       "dewpoint      -0.088446  0.249676       0.643073  -0.312179  \n",
       "humidity       0.584854 -0.541592      -0.012430   0.062285  \n",
       "cloud          1.000000 -0.805128      -0.127087   0.184698  \n",
       "sunshine      -0.805128  1.000000       0.272235  -0.241752  \n",
       "winddirection -0.127087  0.272235       1.000000  -0.192417  \n",
       "windspeed      0.184698 -0.241752      -0.192417   1.000000  "
      ]
     },
     "execution_count": 122,
     "metadata": {},
     "output_type": "execute_result"
    }
   ],
   "source": [
    "#check corelation\n",
    "corr=data[kol_x].corr()\n",
    "corr"
   ]
  },
  {
   "cell_type": "markdown",
   "metadata": {},
   "source": [
    "- Based on table correlation, there's strong positive correlation between temperature (mintemp and maxtemp too) and dew point, pressure and dewpoint, temperature have strong positive correlation\n",
    "- there's negative strong corelation between cloud and sunshine"
   ]
  },
  {
   "cell_type": "markdown",
   "metadata": {},
   "source": [
    "plot just strong corellation (positive and negative)"
   ]
  },
  {
   "cell_type": "code",
   "execution_count": 123,
   "metadata": {},
   "outputs": [
    {
     "data": {
      "image/png": "[encoded data removed]",
      "text/plain": [
       "<Figure size 640x480 with 1 Axes>"
      ]
     },
     "metadata": {},
     "output_type": "display_data"
    }
   ],
   "source": [
    "#temperature vs dew point\n",
    "rainfall_type=data['rainfall'].unique().tolist()\n",
    "for i,j in zip(rainfall_type,['blue','yellow']):\n",
    "    ambil=data[data['rainfall']==i]\n",
    "    plt.scatter(ambil['temparature'],ambil['dewpoint'],color=j,label=i)\n",
    "    plt.xlabel('temparature')\n",
    "    plt.ylabel('dewpoint')\n",
    "    plt.title('temparature vs dewpoint')\n",
    "    plt.legend()"
   ]
  },
  {
   "cell_type": "code",
   "execution_count": 124,
   "metadata": {},
   "outputs": [
    {
     "data": {
      "image/png": "[encoded data removed]",
      "text/plain": [
       "<Figure size 500x300 with 2 Axes>"
      ]
     },
     "metadata": {},
     "output_type": "display_data"
    }
   ],
   "source": [
    "#presuere vs dew point\n",
    "fig,ax=plt.subplots(1,2,figsize=(5,3))\n",
    "for i,j in zip(range(2),['temparature','dewpoint']):\n",
    "    rainfall_type=data['rainfall'].unique().tolist()\n",
    "    for k,l in zip(rainfall_type,['blue','yellow']):\n",
    "        ambil=data[data['rainfall']==k]\n",
    "        ax[i].scatter(ambil['pressure'],ambil[j],color=l,label=i)\n",
    "        ax[i].set_xlabel('presurre')\n",
    "        ax[i].set_ylabel(j)\n",
    "        ax[i].set_title(f'presurre vs {j}')\n",
    "        ax[i].legend()\n",
    "plt.tight_layout()\n"
   ]
  },
  {
   "cell_type": "code",
   "execution_count": 125,
   "metadata": {},
   "outputs": [
    {
     "data": {
      "image/png": "[encoded data removed]",
      "text/plain": [
       "<Figure size 640x480 with 1 Axes>"
      ]
     },
     "metadata": {},
     "output_type": "display_data"
    }
   ],
   "source": [
    "#cloud and shunshine\n",
    "rainfall_type=data['rainfall'].unique().tolist()\n",
    "for i,j in zip(rainfall_type,['blue','yellow']):\n",
    "    ambil=data[data['rainfall']==i]\n",
    "    plt.scatter(ambil['cloud'],ambil['sunshine'],color=j,label=i)\n",
    "    plt.xlabel('cloud')\n",
    "    plt.ylabel('sunshine')\n",
    "    plt.title('cloud vs sunshine')\n",
    "    plt.legend()"
   ]
  },
  {
   "cell_type": "code",
   "execution_count": 126,
   "metadata": {},
   "outputs": [
    {
     "data": {
      "text/plain": [
       "[1, 0]"
      ]
     },
     "execution_count": 126,
     "metadata": {},
     "output_type": "execute_result"
    }
   ],
   "source": [
    "data['rainfall'].unique().tolist()"
   ]
  },
  {
   "cell_type": "markdown",
   "metadata": {},
   "source": [
    "**correlation every variable x vs y**"
   ]
  },
  {
   "cell_type": "code",
   "execution_count": 127,
   "metadata": {},
   "outputs": [
    {
     "name": "stderr",
     "output_type": "stream",
     "text": [
      "C:\\Users\\User\\AppData\\Local\\Temp\\ipykernel_8436\\1658684302.py:8: MatplotlibDeprecationWarning: The 'labels' parameter of boxplot() has been renamed 'tick_labels' since Matplotlib 3.9; support for the old name will be dropped in 3.11.\n",
      "  ax[i][j].boxplot(kum,labels=data['rainfall'].unique().tolist())\n",
      "C:\\Users\\User\\AppData\\Local\\Temp\\ipykernel_8436\\1658684302.py:8: MatplotlibDeprecationWarning: The 'labels' parameter of boxplot() has been renamed 'tick_labels' since Matplotlib 3.9; support for the old name will be dropped in 3.11.\n",
      "  ax[i][j].boxplot(kum,labels=data['rainfall'].unique().tolist())\n",
      "C:\\Users\\User\\AppData\\Local\\Temp\\ipykernel_8436\\1658684302.py:8: MatplotlibDeprecationWarning: The 'labels' parameter of boxplot() has been renamed 'tick_labels' since Matplotlib 3.9; support for the old name will be dropped in 3.11.\n",
      "  ax[i][j].boxplot(kum,labels=data['rainfall'].unique().tolist())\n",
      "C:\\Users\\User\\AppData\\Local\\Temp\\ipykernel_8436\\1658684302.py:8: MatplotlibDeprecationWarning: The 'labels' parameter of boxplot() has been renamed 'tick_labels' since Matplotlib 3.9; support for the old name will be dropped in 3.11.\n",
      "  ax[i][j].boxplot(kum,labels=data['rainfall'].unique().tolist())\n",
      "C:\\Users\\User\\AppData\\Local\\Temp\\ipykernel_8436\\1658684302.py:8: MatplotlibDeprecationWarning: The 'labels' parameter of boxplot() has been renamed 'tick_labels' since Matplotlib 3.9; support for the old name will be dropped in 3.11.\n",
      "  ax[i][j].boxplot(kum,labels=data['rainfall'].unique().tolist())\n",
      "C:\\Users\\User\\AppData\\Local\\Temp\\ipykernel_8436\\1658684302.py:8: MatplotlibDeprecationWarning: The 'labels' parameter of boxplot() has been renamed 'tick_labels' since Matplotlib 3.9; support for the old name will be dropped in 3.11.\n",
      "  ax[i][j].boxplot(kum,labels=data['rainfall'].unique().tolist())\n",
      "C:\\Users\\User\\AppData\\Local\\Temp\\ipykernel_8436\\1658684302.py:8: MatplotlibDeprecationWarning: The 'labels' parameter of boxplot() has been renamed 'tick_labels' since Matplotlib 3.9; support for the old name will be dropped in 3.11.\n",
      "  ax[i][j].boxplot(kum,labels=data['rainfall'].unique().tolist())\n",
      "C:\\Users\\User\\AppData\\Local\\Temp\\ipykernel_8436\\1658684302.py:8: MatplotlibDeprecationWarning: The 'labels' parameter of boxplot() has been renamed 'tick_labels' since Matplotlib 3.9; support for the old name will be dropped in 3.11.\n",
      "  ax[i][j].boxplot(kum,labels=data['rainfall'].unique().tolist())\n",
      "C:\\Users\\User\\AppData\\Local\\Temp\\ipykernel_8436\\1658684302.py:8: MatplotlibDeprecationWarning: The 'labels' parameter of boxplot() has been renamed 'tick_labels' since Matplotlib 3.9; support for the old name will be dropped in 3.11.\n",
      "  ax[i][j].boxplot(kum,labels=data['rainfall'].unique().tolist())\n",
      "C:\\Users\\User\\AppData\\Local\\Temp\\ipykernel_8436\\1658684302.py:8: MatplotlibDeprecationWarning: The 'labels' parameter of boxplot() has been renamed 'tick_labels' since Matplotlib 3.9; support for the old name will be dropped in 3.11.\n",
      "  ax[i][j].boxplot(kum,labels=data['rainfall'].unique().tolist())\n"
     ]
    },
    {
     "data": {
      "image/png": "[encoded data removed]",
      "text/plain": [
       "<Figure size 800x500 with 10 Axes>"
      ]
     },
     "metadata": {},
     "output_type": "display_data"
    }
   ],
   "source": [
    "fig,ax=plt.subplots(2,5,figsize=(8,5))\n",
    "for (i,j),k in zip([(i,j) for i in range (2) for j in range (5)],kol_x):\n",
    "    kum=[]\n",
    "    for l in data['rainfall'].unique().tolist():\n",
    "        ambil=data[data['rainfall']==l]\n",
    "        get_data=ambil[k]\n",
    "        kum.append(get_data)\n",
    "    ax[i][j].boxplot(kum,labels=data['rainfall'].unique().tolist())\n",
    "    ax[i][j].set_title(k)\n",
    "plt.tight_layout()"
   ]
  },
  {
   "cell_type": "markdown",
   "metadata": {},
   "source": [
    "- cloud, sunshine, humidity, and windspeed distinguish between classm so there're relationship with y\n",
    "- other than cloud, sunshine, humidity, and windspeed  are not separable, so there're no relationship y"
   ]
  },
  {
   "cell_type": "markdown",
   "metadata": {},
   "source": [
    "# CLASSIFICATION"
   ]
  },
  {
   "cell_type": "code",
   "execution_count": 128,
   "metadata": {},
   "outputs": [
    {
     "name": "stdout",
     "output_type": "stream",
     "text": [
      "class label in this dataset is [1, 0]\n",
      "---------------------\n"
     ]
    },
    {
     "data": {
      "text/plain": [
       "rainfall\n",
       "1    1650\n",
       "0     540\n",
       "Name: count, dtype: int64"
      ]
     },
     "execution_count": 128,
     "metadata": {},
     "output_type": "execute_result"
    }
   ],
   "source": [
    "print(f\"class label in this dataset is {data['rainfall'].unique().tolist()}\")\n",
    "print('---------------------')\n",
    "data['rainfall'].value_counts()"
   ]
  },
  {
   "cell_type": "markdown",
   "metadata": {},
   "source": [
    "- between class 1 and 0 has not equal or the dataset is imbalance.\n",
    "- because there're some variable that has relationship with y we want to make two model:\n",
    "    - logistic regression for cloud, sunshine, humidity, and windspeed\n",
    "    - XGBOOST for all variable"
   ]
  },
  {
   "cell_type": "markdown",
   "metadata": {},
   "source": [
    "**remove variabel that not important** : remove days and id"
   ]
  },
  {
   "cell_type": "code",
   "execution_count": 129,
   "metadata": {},
   "outputs": [],
   "source": [
    "data_new=data.drop(['id','day'],axis=1)"
   ]
  },
  {
   "cell_type": "markdown",
   "metadata": {},
   "source": [
    "**logistic regression**"
   ]
  },
  {
   "cell_type": "code",
   "execution_count": 130,
   "metadata": {},
   "outputs": [
    {
     "data": {
      "text/html": [
       "<div>\n",
       "<style scoped>\n",
       "    .dataframe tbody tr th:only-of-type {\n",
       "        vertical-align: middle;\n",
       "    }\n",
       "\n",
       "    .dataframe tbody tr th {\n",
       "        vertical-align: top;\n",
       "    }\n",
       "\n",
       "    .dataframe thead th {\n",
       "        text-align: right;\n",
       "    }\n",
       "</style>\n",
       "<table border=\"1\" class=\"dataframe\">\n",
       "  <thead>\n",
       "    <tr style=\"text-align: right;\">\n",
       "      <th></th>\n",
       "      <th>cloud</th>\n",
       "      <th>sunshine</th>\n",
       "      <th>windspeed</th>\n",
       "      <th>humidity</th>\n",
       "    </tr>\n",
       "  </thead>\n",
       "  <tbody>\n",
       "    <tr>\n",
       "      <th>919</th>\n",
       "      <td>79.0</td>\n",
       "      <td>0.3</td>\n",
       "      <td>24.4</td>\n",
       "      <td>82.0</td>\n",
       "    </tr>\n",
       "    <tr>\n",
       "      <th>118</th>\n",
       "      <td>64.0</td>\n",
       "      <td>6.3</td>\n",
       "      <td>29.6</td>\n",
       "      <td>73.0</td>\n",
       "    </tr>\n",
       "    <tr>\n",
       "      <th>784</th>\n",
       "      <td>79.0</td>\n",
       "      <td>0.2</td>\n",
       "      <td>23.3</td>\n",
       "      <td>79.0</td>\n",
       "    </tr>\n",
       "    <tr>\n",
       "      <th>719</th>\n",
       "      <td>81.0</td>\n",
       "      <td>0.6</td>\n",
       "      <td>38.3</td>\n",
       "      <td>83.0</td>\n",
       "    </tr>\n",
       "    <tr>\n",
       "      <th>327</th>\n",
       "      <td>60.0</td>\n",
       "      <td>6.8</td>\n",
       "      <td>35.3</td>\n",
       "      <td>65.0</td>\n",
       "    </tr>\n",
       "  </tbody>\n",
       "</table>\n",
       "</div>"
      ],
      "text/plain": [
       "     cloud  sunshine  windspeed  humidity\n",
       "919   79.0       0.3       24.4      82.0\n",
       "118   64.0       6.3       29.6      73.0\n",
       "784   79.0       0.2       23.3      79.0\n",
       "719   81.0       0.6       38.3      83.0\n",
       "327   60.0       6.8       35.3      65.0"
      ]
     },
     "execution_count": 130,
     "metadata": {},
     "output_type": "execute_result"
    }
   ],
   "source": [
    "from sklearn.model_selection import train_test_split,StratifiedKFold\n",
    "from sklearn.linear_model import LogisticRegression\n",
    "from sklearn.preprocessing import StandardScaler\n",
    "from sklearn.metrics import roc_auc_score\n",
    "data_cl=data_new.copy()\n",
    "kol_log=['cloud','sunshine','windspeed','humidity']\n",
    "X=data_cl[kol_log]\n",
    "y=data_cl['rainfall']\n",
    "#split teh dara into validation set, stratify keep distribution of class is same\n",
    "xtrain,xval,ytrain,yval=train_test_split(X,y,test_size=0.2,random_state=42,stratify=y)\n",
    "xtrain.head()"
   ]
  },
  {
   "cell_type": "markdown",
   "metadata": {},
   "source": [
    "using : KFOLD : evaluate model performance divide subset data into K fold. K-1 fold for training and remaining fold for validation data and repeated for K times. Using stratifiedkfold when class label is imbalanced"
   ]
  },
  {
   "cell_type": "code",
   "execution_count": 131,
   "metadata": {},
   "outputs": [
    {
     "name": "stdout",
     "output_type": "stream",
     "text": [
      "roc auc score training :\n",
      "-----------------------------------------\n",
      "[np.float64(0.8910902503293807), np.float64(0.8854111769872639), np.float64(0.8888596952180765), np.float64(0.8953516377649325), np.float64(0.881505627080049)]\n",
      "-----------------------------------------\n",
      "roc auc score validation :\n",
      "-----------------------------------------\n",
      "[np.float64(0.8763932427725531), np.float64(0.8982061999303378), np.float64(0.8841613812544045), np.float64(0.8601127554615927), np.float64(0.913715644820296)]\n"
     ]
    }
   ],
   "source": [
    "#make kf\n",
    "kf=StratifiedKFold(n_splits=5,shuffle=True,random_state=42)\n",
    "#since imbalance class we use roc_auc score\n",
    "roc_train=[]\n",
    "roc_val=[]\n",
    "for tr_index,val_index in kf.split(xtrain,ytrain):\n",
    "    xtrain_fold,xval_fold=xtrain.iloc[tr_index],xtrain.iloc[val_index]\n",
    "    ytrain_fold,yval_fold=ytrain.iloc[tr_index],ytrain.iloc[val_index]\n",
    "     #scaler\n",
    "    scaler=StandardScaler()\n",
    "    tr_clean=scaler.fit_transform(xtrain_fold)\n",
    "    val_clean=scaler.transform(xval_fold)\n",
    "    #make model\n",
    "    model_log=LogisticRegression(class_weight='balanced',solver='liblinear',random_state=42)\n",
    "    model_log.fit(tr_clean,ytrain_fold)\n",
    "    #extract only columns 1 column 1 is positive class\n",
    "    tr_pred=model_log.predict_proba(tr_clean)[:,1]\n",
    "    val_pred=model_log.predict_proba(val_clean)[:,1]\n",
    "    #score\n",
    "    score_tr=roc_auc_score(ytrain_fold,tr_pred)\n",
    "    score_val=roc_auc_score(yval_fold,val_pred)\n",
    "    roc_train.append(score_tr)\n",
    "    roc_val.append(score_val)\n",
    "print('roc auc score training :')\n",
    "print('-----------------------------------------')\n",
    "print(roc_train)\n",
    "print('-----------------------------------------')\n",
    "print('roc auc score validation :')\n",
    "print('-----------------------------------------')\n",
    "print(roc_val)"
   ]
  },
  {
   "cell_type": "markdown",
   "metadata": {},
   "source": [
    "- for imbalance data, using class_weight ='balanced' to predict minority class is suits and liblinear solver is works well for binary classification\n",
    "- ROC-AUC score : good for imbalanced data, its good for model know to separate between class\n",
    "- based on training and validation roc-auc the model is not overfitting and works well because there' tiny gap between them. overfitting happen when training set is larger than validation set"
   ]
  },
  {
   "cell_type": "code",
   "execution_count": 132,
   "metadata": {},
   "outputs": [
    {
     "data": {
      "text/plain": [
       "np.float64(0.8781144781144782)"
      ]
     },
     "execution_count": 132,
     "metadata": {},
     "output_type": "execute_result"
    }
   ],
   "source": [
    "#perform logistic regression in validation\n",
    "standar=StandardScaler()\n",
    "val_new=standar.fit_transform(xval)\n",
    "pred=model_log.predict_proba(val_new)[:,1]\n",
    "rocscore=roc_auc_score(yval,pred)\n",
    "rocscore"
   ]
  },
  {
   "cell_type": "markdown",
   "metadata": {},
   "source": [
    "- thee roc auc score above is considered godd"
   ]
  },
  {
   "cell_type": "markdown",
   "metadata": {},
   "source": [
    "**Perform logistic regression in test set**"
   ]
  },
  {
   "cell_type": "code",
   "execution_count": 133,
   "metadata": {},
   "outputs": [
    {
     "data": {
      "text/html": [
       "<div>\n",
       "<style scoped>\n",
       "    .dataframe tbody tr th:only-of-type {\n",
       "        vertical-align: middle;\n",
       "    }\n",
       "\n",
       "    .dataframe tbody tr th {\n",
       "        vertical-align: top;\n",
       "    }\n",
       "\n",
       "    .dataframe thead th {\n",
       "        text-align: right;\n",
       "    }\n",
       "</style>\n",
       "<table border=\"1\" class=\"dataframe\">\n",
       "  <thead>\n",
       "    <tr style=\"text-align: right;\">\n",
       "      <th></th>\n",
       "      <th>id</th>\n",
       "      <th>day</th>\n",
       "      <th>pressure</th>\n",
       "      <th>maxtemp</th>\n",
       "      <th>temparature</th>\n",
       "      <th>mintemp</th>\n",
       "      <th>dewpoint</th>\n",
       "      <th>humidity</th>\n",
       "      <th>cloud</th>\n",
       "      <th>sunshine</th>\n",
       "      <th>winddirection</th>\n",
       "      <th>windspeed</th>\n",
       "    </tr>\n",
       "  </thead>\n",
       "  <tbody>\n",
       "    <tr>\n",
       "      <th>725</th>\n",
       "      <td>2915</td>\n",
       "      <td>361</td>\n",
       "      <td>1020.8</td>\n",
       "      <td>18.2</td>\n",
       "      <td>17.6</td>\n",
       "      <td>16.1</td>\n",
       "      <td>13.7</td>\n",
       "      <td>96.0</td>\n",
       "      <td>95.0</td>\n",
       "      <td>0.0</td>\n",
       "      <td>20.0</td>\n",
       "      <td>34.3</td>\n",
       "    </tr>\n",
       "    <tr>\n",
       "      <th>726</th>\n",
       "      <td>2916</td>\n",
       "      <td>362</td>\n",
       "      <td>1011.7</td>\n",
       "      <td>23.2</td>\n",
       "      <td>18.1</td>\n",
       "      <td>16.0</td>\n",
       "      <td>16.0</td>\n",
       "      <td>78.0</td>\n",
       "      <td>80.0</td>\n",
       "      <td>1.6</td>\n",
       "      <td>40.0</td>\n",
       "      <td>25.2</td>\n",
       "    </tr>\n",
       "    <tr>\n",
       "      <th>727</th>\n",
       "      <td>2917</td>\n",
       "      <td>363</td>\n",
       "      <td>1022.7</td>\n",
       "      <td>21.0</td>\n",
       "      <td>18.5</td>\n",
       "      <td>17.0</td>\n",
       "      <td>15.5</td>\n",
       "      <td>92.0</td>\n",
       "      <td>96.0</td>\n",
       "      <td>0.0</td>\n",
       "      <td>50.0</td>\n",
       "      <td>21.9</td>\n",
       "    </tr>\n",
       "    <tr>\n",
       "      <th>728</th>\n",
       "      <td>2918</td>\n",
       "      <td>364</td>\n",
       "      <td>1014.4</td>\n",
       "      <td>21.0</td>\n",
       "      <td>20.0</td>\n",
       "      <td>19.7</td>\n",
       "      <td>19.8</td>\n",
       "      <td>94.0</td>\n",
       "      <td>93.0</td>\n",
       "      <td>0.0</td>\n",
       "      <td>50.0</td>\n",
       "      <td>39.5</td>\n",
       "    </tr>\n",
       "    <tr>\n",
       "      <th>729</th>\n",
       "      <td>2919</td>\n",
       "      <td>365</td>\n",
       "      <td>1020.9</td>\n",
       "      <td>22.2</td>\n",
       "      <td>18.8</td>\n",
       "      <td>17.0</td>\n",
       "      <td>13.3</td>\n",
       "      <td>79.0</td>\n",
       "      <td>89.0</td>\n",
       "      <td>0.2</td>\n",
       "      <td>60.0</td>\n",
       "      <td>50.6</td>\n",
       "    </tr>\n",
       "  </tbody>\n",
       "</table>\n",
       "</div>"
      ],
      "text/plain": [
       "       id  day  pressure  maxtemp  temparature  mintemp  dewpoint  humidity  \\\n",
       "725  2915  361    1020.8     18.2         17.6     16.1      13.7      96.0   \n",
       "726  2916  362    1011.7     23.2         18.1     16.0      16.0      78.0   \n",
       "727  2917  363    1022.7     21.0         18.5     17.0      15.5      92.0   \n",
       "728  2918  364    1014.4     21.0         20.0     19.7      19.8      94.0   \n",
       "729  2919  365    1020.9     22.2         18.8     17.0      13.3      79.0   \n",
       "\n",
       "     cloud  sunshine  winddirection  windspeed  \n",
       "725   95.0       0.0           20.0       34.3  \n",
       "726   80.0       1.6           40.0       25.2  \n",
       "727   96.0       0.0           50.0       21.9  \n",
       "728   93.0       0.0           50.0       39.5  \n",
       "729   89.0       0.2           60.0       50.6  "
      ]
     },
     "execution_count": 133,
     "metadata": {},
     "output_type": "execute_result"
    }
   ],
   "source": [
    "import pandas as pd\n",
    "data_test=pd.read_csv(\"C:/Users/User/Documents/rainfall_test.csv\")\n",
    "data_test.tail()"
   ]
  },
  {
   "cell_type": "code",
   "execution_count": 134,
   "metadata": {},
   "outputs": [
    {
     "data": {
      "text/html": [
       "<div>\n",
       "<style scoped>\n",
       "    .dataframe tbody tr th:only-of-type {\n",
       "        vertical-align: middle;\n",
       "    }\n",
       "\n",
       "    .dataframe tbody tr th {\n",
       "        vertical-align: top;\n",
       "    }\n",
       "\n",
       "    .dataframe thead th {\n",
       "        text-align: right;\n",
       "    }\n",
       "</style>\n",
       "<table border=\"1\" class=\"dataframe\">\n",
       "  <thead>\n",
       "    <tr style=\"text-align: right;\">\n",
       "      <th></th>\n",
       "      <th>id</th>\n",
       "      <th>class</th>\n",
       "    </tr>\n",
       "  </thead>\n",
       "  <tbody>\n",
       "    <tr>\n",
       "      <th>0</th>\n",
       "      <td>2190</td>\n",
       "      <td>1</td>\n",
       "    </tr>\n",
       "    <tr>\n",
       "      <th>1</th>\n",
       "      <td>2191</td>\n",
       "      <td>1</td>\n",
       "    </tr>\n",
       "    <tr>\n",
       "      <th>2</th>\n",
       "      <td>2192</td>\n",
       "      <td>1</td>\n",
       "    </tr>\n",
       "    <tr>\n",
       "      <th>3</th>\n",
       "      <td>2193</td>\n",
       "      <td>0</td>\n",
       "    </tr>\n",
       "    <tr>\n",
       "      <th>4</th>\n",
       "      <td>2194</td>\n",
       "      <td>0</td>\n",
       "    </tr>\n",
       "    <tr>\n",
       "      <th>...</th>\n",
       "      <td>...</td>\n",
       "      <td>...</td>\n",
       "    </tr>\n",
       "    <tr>\n",
       "      <th>725</th>\n",
       "      <td>2915</td>\n",
       "      <td>1</td>\n",
       "    </tr>\n",
       "    <tr>\n",
       "      <th>726</th>\n",
       "      <td>2916</td>\n",
       "      <td>1</td>\n",
       "    </tr>\n",
       "    <tr>\n",
       "      <th>727</th>\n",
       "      <td>2917</td>\n",
       "      <td>1</td>\n",
       "    </tr>\n",
       "    <tr>\n",
       "      <th>728</th>\n",
       "      <td>2918</td>\n",
       "      <td>1</td>\n",
       "    </tr>\n",
       "    <tr>\n",
       "      <th>729</th>\n",
       "      <td>2919</td>\n",
       "      <td>1</td>\n",
       "    </tr>\n",
       "  </tbody>\n",
       "</table>\n",
       "<p>730 rows × 2 columns</p>\n",
       "</div>"
      ],
      "text/plain": [
       "       id  class\n",
       "0    2190      1\n",
       "1    2191      1\n",
       "2    2192      1\n",
       "3    2193      0\n",
       "4    2194      0\n",
       "..    ...    ...\n",
       "725  2915      1\n",
       "726  2916      1\n",
       "727  2917      1\n",
       "728  2918      1\n",
       "729  2919      1\n",
       "\n",
       "[730 rows x 2 columns]"
      ]
     },
     "execution_count": 134,
     "metadata": {},
     "output_type": "execute_result"
    }
   ],
   "source": [
    "X_test=data_test[kol_log]\n",
    "xtest_str=standar.transform(X_test)\n",
    "predict_test=model_log.predict_proba(xtest_str)[:,1]\n",
    "#threshold 0.5 if more than 0,5 we conver to 1\n",
    "threshold=0.5\n",
    "def binary_class(x):\n",
    "    if x>=0.5:\n",
    "        return 1\n",
    "    else:\n",
    "        return 0\n",
    "binary=list(map(binary_class,predict_test))\n",
    "datakum=pd.DataFrame({\n",
    "    'id':data_test['id'],\n",
    "    'class':binary\n",
    "})\n",
    "datakum"
   ]
  },
  {
   "cell_type": "code",
   "execution_count": 186,
   "metadata": {},
   "outputs": [
    {
     "data": {
      "text/plain": [
       "class\n",
       "1    662\n",
       "0     68\n",
       "Name: count, dtype: int64"
      ]
     },
     "execution_count": 186,
     "metadata": {},
     "output_type": "execute_result"
    }
   ],
   "source": [
    "datakum['class'].value_counts()"
   ]
  },
  {
   "cell_type": "markdown",
   "metadata": {},
   "source": [
    "**using xgboost in all x variable** : using tree rather than probability, learn from mistake and improve based on them (like add more weighting for rare class)"
   ]
  },
  {
   "cell_type": "code",
   "execution_count": 151,
   "metadata": {},
   "outputs": [
    {
     "data": {
      "text/plain": [
       "(1752,)"
      ]
     },
     "execution_count": 151,
     "metadata": {},
     "output_type": "execute_result"
    }
   ],
   "source": [
    "from sklearn.model_selection import train_test_split, StratifiedKFold\n",
    "import xgboost\n",
    "from sklearn.metrics import roc_auc_score\n",
    "data_xg=data_new.copy()\n",
    "X=data_xg[kol_x]\n",
    "y=data_xg['rainfall']\n",
    "#split teh dara into validation set, stratify keep distribution of class is same\n",
    "xtrain,xval,ytrain,yval=train_test_split(X,y,test_size=0.2,random_state=42,stratify=y)\n",
    "ytrain.shape"
   ]
  },
  {
   "cell_type": "code",
   "execution_count": 182,
   "metadata": {},
   "outputs": [
    {
     "name": "stdout",
     "output_type": "stream",
     "text": [
      "roc auc score training :\n",
      "-----------------------------------------\n",
      "[np.float64(0.9155097167325427), np.float64(0.9055198726394378), np.float64(0.9141842923454194), np.float64(0.9202999102294622), np.float64(0.9091839639166229)]\n",
      "-----------------------------------------\n",
      "roc auc score validation :\n",
      "-----------------------------------------\n",
      "[np.float64(0.8738244514106583), np.float64(0.9029954719609892), np.float64(0.893256694855532), np.float64(0.8677325581395351), np.float64(0.9094212473572939)]\n"
     ]
    }
   ],
   "source": [
    "#make kf\n",
    "kf=StratifiedKFold(n_splits=5,shuffle=True,random_state=42)\n",
    "tab_count=y.value_counts()\n",
    "scale=tab_count.loc[1]/tab_count.loc[0]\n",
    "#since imbalance class we use roc_auc score\n",
    "roc_train=[]\n",
    "roc_val=[]\n",
    "for tr_index,val_index in kf.split(xtrain,ytrain):\n",
    "    xtrain_fold,xval_fold=xtrain.iloc[tr_index],xtrain.iloc[val_index]\n",
    "    ytrain_fold,yval_fold=ytrain.iloc[tr_index],ytrain.iloc[val_index]\n",
    "    #make model\n",
    "    model_xg=xgboost.XGBClassifier(scale_pos_weight=scale,\n",
    "                                    eval_metric='auc',\n",
    "                                    max_depth=2,\n",
    "                                    reg_alpha=0.6,\n",
    "                                    reg_lambda=9,\n",
    "                                    n_estimators=200,\n",
    "                                   gamma=5)\n",
    "    model_xg.fit(xtrain_fold,ytrain_fold)\n",
    "    #extract only columns 1 column 1 is positive class\n",
    "    tr_pred=model_xg.predict_proba(xtrain_fold)[:,1]\n",
    "    val_pred=model_xg.predict_proba(xval_fold)[:,1]\n",
    "    #score\n",
    "    score_tr=roc_auc_score(ytrain_fold,tr_pred)\n",
    "    score_val=roc_auc_score(yval_fold,val_pred)\n",
    "    roc_train.append(score_tr)\n",
    "    roc_val.append(score_val)\n",
    "print('roc auc score training :')\n",
    "print('-----------------------------------------')\n",
    "print(roc_train)\n",
    "print('-----------------------------------------')\n",
    "print('roc auc score validation :')\n",
    "print('-----------------------------------------')\n",
    "print(roc_val)"
   ]
  },
  {
   "cell_type": "markdown",
   "metadata": {},
   "source": [
    " model_log=xgboost.XGBClassifier(scale_pos_weight=scale,\n",
    "                                    eval_metric='auc',\n",
    "                                    max_depth=2,\n",
    "                                    reg_alpha=0.6,\n",
    "                                    reg_lambda=9,\n",
    "                                    n_estimators=200,\n",
    "                                   gamma=5)"
   ]
  },
  {
   "cell_type": "markdown",
   "metadata": {},
   "source": [
    "- scale_pos_weigt : for imbalanced data, the scale is class 1/class 0\n",
    "- using auc-roc for evaluate model\n",
    "- max deep, how deep tree, lower value - more generalize higher value tree more memorize data training, so model can overfitting\n",
    "- reg-alpha = regularization L1 higher value model more generalize (its like keep important feature)\n",
    "- reg lambda =regularization L2, same as reg-alpha (adjust tree grow, higher value more controllable, reduce overfitting)\n",
    "- n_estimator=number of tree\n",
    "- gamma = its like decision of split or not, higher value, tree will careful to split data, and low model tree easily split, so the model will complex"
   ]
  },
  {
   "cell_type": "code",
   "execution_count": 183,
   "metadata": {},
   "outputs": [
    {
     "data": {
      "text/plain": [
       "np.float64(0.887317620650954)"
      ]
     },
     "execution_count": 183,
     "metadata": {},
     "output_type": "execute_result"
    }
   ],
   "source": [
    "#perform logistic regression in validation\n",
    "pred=model_xg.predict_proba(xval)[:,1]\n",
    "rocscore=roc_auc_score(yval,pred)\n",
    "rocscore"
   ]
  },
  {
   "cell_type": "markdown",
   "metadata": {},
   "source": [
    "- the result xgboost is higher than using logistic regression"
   ]
  },
  {
   "cell_type": "markdown",
   "metadata": {},
   "source": [
    "**XGBoost on test set**"
   ]
  },
  {
   "cell_type": "code",
   "execution_count": 184,
   "metadata": {},
   "outputs": [
    {
     "data": {
      "text/html": [
       "<div>\n",
       "<style scoped>\n",
       "    .dataframe tbody tr th:only-of-type {\n",
       "        vertical-align: middle;\n",
       "    }\n",
       "\n",
       "    .dataframe tbody tr th {\n",
       "        vertical-align: top;\n",
       "    }\n",
       "\n",
       "    .dataframe thead th {\n",
       "        text-align: right;\n",
       "    }\n",
       "</style>\n",
       "<table border=\"1\" class=\"dataframe\">\n",
       "  <thead>\n",
       "    <tr style=\"text-align: right;\">\n",
       "      <th></th>\n",
       "      <th>id</th>\n",
       "      <th>day</th>\n",
       "      <th>pressure</th>\n",
       "      <th>maxtemp</th>\n",
       "      <th>temparature</th>\n",
       "      <th>mintemp</th>\n",
       "      <th>dewpoint</th>\n",
       "      <th>humidity</th>\n",
       "      <th>cloud</th>\n",
       "      <th>sunshine</th>\n",
       "      <th>winddirection</th>\n",
       "      <th>windspeed</th>\n",
       "    </tr>\n",
       "  </thead>\n",
       "  <tbody>\n",
       "    <tr>\n",
       "      <th>725</th>\n",
       "      <td>2915</td>\n",
       "      <td>361</td>\n",
       "      <td>1020.8</td>\n",
       "      <td>18.2</td>\n",
       "      <td>17.6</td>\n",
       "      <td>16.1</td>\n",
       "      <td>13.7</td>\n",
       "      <td>96.0</td>\n",
       "      <td>95.0</td>\n",
       "      <td>0.0</td>\n",
       "      <td>20.0</td>\n",
       "      <td>34.3</td>\n",
       "    </tr>\n",
       "    <tr>\n",
       "      <th>726</th>\n",
       "      <td>2916</td>\n",
       "      <td>362</td>\n",
       "      <td>1011.7</td>\n",
       "      <td>23.2</td>\n",
       "      <td>18.1</td>\n",
       "      <td>16.0</td>\n",
       "      <td>16.0</td>\n",
       "      <td>78.0</td>\n",
       "      <td>80.0</td>\n",
       "      <td>1.6</td>\n",
       "      <td>40.0</td>\n",
       "      <td>25.2</td>\n",
       "    </tr>\n",
       "    <tr>\n",
       "      <th>727</th>\n",
       "      <td>2917</td>\n",
       "      <td>363</td>\n",
       "      <td>1022.7</td>\n",
       "      <td>21.0</td>\n",
       "      <td>18.5</td>\n",
       "      <td>17.0</td>\n",
       "      <td>15.5</td>\n",
       "      <td>92.0</td>\n",
       "      <td>96.0</td>\n",
       "      <td>0.0</td>\n",
       "      <td>50.0</td>\n",
       "      <td>21.9</td>\n",
       "    </tr>\n",
       "    <tr>\n",
       "      <th>728</th>\n",
       "      <td>2918</td>\n",
       "      <td>364</td>\n",
       "      <td>1014.4</td>\n",
       "      <td>21.0</td>\n",
       "      <td>20.0</td>\n",
       "      <td>19.7</td>\n",
       "      <td>19.8</td>\n",
       "      <td>94.0</td>\n",
       "      <td>93.0</td>\n",
       "      <td>0.0</td>\n",
       "      <td>50.0</td>\n",
       "      <td>39.5</td>\n",
       "    </tr>\n",
       "    <tr>\n",
       "      <th>729</th>\n",
       "      <td>2919</td>\n",
       "      <td>365</td>\n",
       "      <td>1020.9</td>\n",
       "      <td>22.2</td>\n",
       "      <td>18.8</td>\n",
       "      <td>17.0</td>\n",
       "      <td>13.3</td>\n",
       "      <td>79.0</td>\n",
       "      <td>89.0</td>\n",
       "      <td>0.2</td>\n",
       "      <td>60.0</td>\n",
       "      <td>50.6</td>\n",
       "    </tr>\n",
       "  </tbody>\n",
       "</table>\n",
       "</div>"
      ],
      "text/plain": [
       "       id  day  pressure  maxtemp  temparature  mintemp  dewpoint  humidity  \\\n",
       "725  2915  361    1020.8     18.2         17.6     16.1      13.7      96.0   \n",
       "726  2916  362    1011.7     23.2         18.1     16.0      16.0      78.0   \n",
       "727  2917  363    1022.7     21.0         18.5     17.0      15.5      92.0   \n",
       "728  2918  364    1014.4     21.0         20.0     19.7      19.8      94.0   \n",
       "729  2919  365    1020.9     22.2         18.8     17.0      13.3      79.0   \n",
       "\n",
       "     cloud  sunshine  winddirection  windspeed  \n",
       "725   95.0       0.0           20.0       34.3  \n",
       "726   80.0       1.6           40.0       25.2  \n",
       "727   96.0       0.0           50.0       21.9  \n",
       "728   93.0       0.0           50.0       39.5  \n",
       "729   89.0       0.2           60.0       50.6  "
      ]
     },
     "execution_count": 184,
     "metadata": {},
     "output_type": "execute_result"
    }
   ],
   "source": [
    "import pandas as pd\n",
    "data_test=pd.read_csv(\"C:/Users/User/Documents/rainfall_test.csv\")\n",
    "data_test.tail()"
   ]
  },
  {
   "cell_type": "code",
   "execution_count": 192,
   "metadata": {},
   "outputs": [
    {
     "data": {
      "text/html": [
       "<div>\n",
       "<style scoped>\n",
       "    .dataframe tbody tr th:only-of-type {\n",
       "        vertical-align: middle;\n",
       "    }\n",
       "\n",
       "    .dataframe tbody tr th {\n",
       "        vertical-align: top;\n",
       "    }\n",
       "\n",
       "    .dataframe thead th {\n",
       "        text-align: right;\n",
       "    }\n",
       "</style>\n",
       "<table border=\"1\" class=\"dataframe\">\n",
       "  <thead>\n",
       "    <tr style=\"text-align: right;\">\n",
       "      <th></th>\n",
       "      <th>id</th>\n",
       "      <th>class</th>\n",
       "    </tr>\n",
       "  </thead>\n",
       "  <tbody>\n",
       "    <tr>\n",
       "      <th>0</th>\n",
       "      <td>2190</td>\n",
       "      <td>1</td>\n",
       "    </tr>\n",
       "    <tr>\n",
       "      <th>1</th>\n",
       "      <td>2191</td>\n",
       "      <td>1</td>\n",
       "    </tr>\n",
       "    <tr>\n",
       "      <th>2</th>\n",
       "      <td>2192</td>\n",
       "      <td>1</td>\n",
       "    </tr>\n",
       "    <tr>\n",
       "      <th>3</th>\n",
       "      <td>2193</td>\n",
       "      <td>0</td>\n",
       "    </tr>\n",
       "    <tr>\n",
       "      <th>4</th>\n",
       "      <td>2194</td>\n",
       "      <td>0</td>\n",
       "    </tr>\n",
       "    <tr>\n",
       "      <th>...</th>\n",
       "      <td>...</td>\n",
       "      <td>...</td>\n",
       "    </tr>\n",
       "    <tr>\n",
       "      <th>725</th>\n",
       "      <td>2915</td>\n",
       "      <td>1</td>\n",
       "    </tr>\n",
       "    <tr>\n",
       "      <th>726</th>\n",
       "      <td>2916</td>\n",
       "      <td>1</td>\n",
       "    </tr>\n",
       "    <tr>\n",
       "      <th>727</th>\n",
       "      <td>2917</td>\n",
       "      <td>1</td>\n",
       "    </tr>\n",
       "    <tr>\n",
       "      <th>728</th>\n",
       "      <td>2918</td>\n",
       "      <td>1</td>\n",
       "    </tr>\n",
       "    <tr>\n",
       "      <th>729</th>\n",
       "      <td>2919</td>\n",
       "      <td>1</td>\n",
       "    </tr>\n",
       "  </tbody>\n",
       "</table>\n",
       "<p>730 rows × 2 columns</p>\n",
       "</div>"
      ],
      "text/plain": [
       "       id  class\n",
       "0    2190      1\n",
       "1    2191      1\n",
       "2    2192      1\n",
       "3    2193      0\n",
       "4    2194      0\n",
       "..    ...    ...\n",
       "725  2915      1\n",
       "726  2916      1\n",
       "727  2917      1\n",
       "728  2918      1\n",
       "729  2919      1\n",
       "\n",
       "[730 rows x 2 columns]"
      ]
     },
     "execution_count": 192,
     "metadata": {},
     "output_type": "execute_result"
    }
   ],
   "source": [
    "X_test=data_test[kol_x]\n",
    "predict_test=model_xg.predict_proba(X_test)[:,1]\n",
    "#threshold 0.5 if more than 0,5 we conver to 1\n",
    "threshold=0.5\n",
    "def binary_class(x):\n",
    "    if x>=0.5:\n",
    "        return 1\n",
    "    else:\n",
    "        return 0\n",
    "binary=list(map(binary_class,predict_test))\n",
    "datakum=pd.DataFrame({\n",
    "    'id':data_test['id'],\n",
    "    'class':binary\n",
    "})\n",
    "datakum"
   ]
  },
  {
   "cell_type": "code",
   "execution_count": 191,
   "metadata": {},
   "outputs": [
    {
     "data": {
      "text/plain": [
       "class\n",
       "1    662\n",
       "0     68\n",
       "Name: count, dtype: int64"
      ]
     },
     "execution_count": 191,
     "metadata": {},
     "output_type": "execute_result"
    }
   ],
   "source": [
    "datakum['class'].value_counts()"
   ]
  }
 ],
 "metadata": {
  "kernelspec": {
   "display_name": "machine_learning",
   "language": "python",
   "name": "streamlit_env"
  },
  "language_info": {
   "codemirror_mode": {
    "name": "ipython",
    "version": 3
   },
   "file_extension": ".py",
   "mimetype": "text/x-python",
   "name": "python",
   "nbconvert_exporter": "python",
   "pygments_lexer": "ipython3",
   "version": "3.9.21"
  }
 },
 "nbformat": 4,
 "nbformat_minor": 2
}
