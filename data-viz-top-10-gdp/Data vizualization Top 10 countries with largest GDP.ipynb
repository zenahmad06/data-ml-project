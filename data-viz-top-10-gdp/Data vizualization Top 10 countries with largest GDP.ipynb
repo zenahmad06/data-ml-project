{
 "cells": [
  {
   "cell_type": "code",
   "execution_count": 9,
   "metadata": {},
   "outputs": [
    {
     "data": {
      "text/html": [
       "<div>\n",
       "<style scoped>\n",
       "    .dataframe tbody tr th:only-of-type {\n",
       "        vertical-align: middle;\n",
       "    }\n",
       "\n",
       "    .dataframe tbody tr th {\n",
       "        vertical-align: top;\n",
       "    }\n",
       "\n",
       "    .dataframe thead th {\n",
       "        text-align: right;\n",
       "    }\n",
       "</style>\n",
       "<table border=\"1\" class=\"dataframe\">\n",
       "  <thead>\n",
       "    <tr style=\"text-align: right;\">\n",
       "      <th></th>\n",
       "      <th>Country</th>\n",
       "      <th>Region</th>\n",
       "      <th>Population</th>\n",
       "      <th>Area (sq. mi.)</th>\n",
       "      <th>Pop. Density (per sq. mi.)</th>\n",
       "      <th>Coastline (coast/area ratio)</th>\n",
       "      <th>Net migration</th>\n",
       "      <th>Infant mortality (per 1000 births)</th>\n",
       "      <th>GDP ($ per capita)</th>\n",
       "      <th>Literacy (%)</th>\n",
       "      <th>Phones (per 1000)</th>\n",
       "      <th>Arable (%)</th>\n",
       "      <th>Crops (%)</th>\n",
       "      <th>Other (%)</th>\n",
       "      <th>Climate</th>\n",
       "      <th>Birthrate</th>\n",
       "      <th>Deathrate</th>\n",
       "      <th>Agriculture</th>\n",
       "      <th>Industry</th>\n",
       "      <th>Service</th>\n",
       "    </tr>\n",
       "  </thead>\n",
       "  <tbody>\n",
       "    <tr>\n",
       "      <th>0</th>\n",
       "      <td>Afghanistan</td>\n",
       "      <td>ASIA (EX. NEAR EAST)</td>\n",
       "      <td>31056997</td>\n",
       "      <td>647500</td>\n",
       "      <td>48,0</td>\n",
       "      <td>0,00</td>\n",
       "      <td>23,06</td>\n",
       "      <td>163,07</td>\n",
       "      <td>700.0</td>\n",
       "      <td>36,0</td>\n",
       "      <td>3,2</td>\n",
       "      <td>12,13</td>\n",
       "      <td>0,22</td>\n",
       "      <td>87,65</td>\n",
       "      <td>1</td>\n",
       "      <td>46,6</td>\n",
       "      <td>20,34</td>\n",
       "      <td>0,38</td>\n",
       "      <td>0,24</td>\n",
       "      <td>0,38</td>\n",
       "    </tr>\n",
       "    <tr>\n",
       "      <th>1</th>\n",
       "      <td>Albania</td>\n",
       "      <td>EASTERN EUROPE</td>\n",
       "      <td>3581655</td>\n",
       "      <td>28748</td>\n",
       "      <td>124,6</td>\n",
       "      <td>1,26</td>\n",
       "      <td>-4,93</td>\n",
       "      <td>21,52</td>\n",
       "      <td>4500.0</td>\n",
       "      <td>86,5</td>\n",
       "      <td>71,2</td>\n",
       "      <td>21,09</td>\n",
       "      <td>4,42</td>\n",
       "      <td>74,49</td>\n",
       "      <td>3</td>\n",
       "      <td>15,11</td>\n",
       "      <td>5,22</td>\n",
       "      <td>0,232</td>\n",
       "      <td>0,188</td>\n",
       "      <td>0,579</td>\n",
       "    </tr>\n",
       "    <tr>\n",
       "      <th>2</th>\n",
       "      <td>Algeria</td>\n",
       "      <td>NORTHERN AFRICA</td>\n",
       "      <td>32930091</td>\n",
       "      <td>2381740</td>\n",
       "      <td>13,8</td>\n",
       "      <td>0,04</td>\n",
       "      <td>-0,39</td>\n",
       "      <td>31</td>\n",
       "      <td>6000.0</td>\n",
       "      <td>70,0</td>\n",
       "      <td>78,1</td>\n",
       "      <td>3,22</td>\n",
       "      <td>0,25</td>\n",
       "      <td>96,53</td>\n",
       "      <td>1</td>\n",
       "      <td>17,14</td>\n",
       "      <td>4,61</td>\n",
       "      <td>0,101</td>\n",
       "      <td>0,6</td>\n",
       "      <td>0,298</td>\n",
       "    </tr>\n",
       "    <tr>\n",
       "      <th>3</th>\n",
       "      <td>American Samoa</td>\n",
       "      <td>OCEANIA</td>\n",
       "      <td>57794</td>\n",
       "      <td>199</td>\n",
       "      <td>290,4</td>\n",
       "      <td>58,29</td>\n",
       "      <td>-20,71</td>\n",
       "      <td>9,27</td>\n",
       "      <td>8000.0</td>\n",
       "      <td>97,0</td>\n",
       "      <td>259,5</td>\n",
       "      <td>10</td>\n",
       "      <td>15</td>\n",
       "      <td>75</td>\n",
       "      <td>2</td>\n",
       "      <td>22,46</td>\n",
       "      <td>3,27</td>\n",
       "      <td>NaN</td>\n",
       "      <td>NaN</td>\n",
       "      <td>NaN</td>\n",
       "    </tr>\n",
       "    <tr>\n",
       "      <th>4</th>\n",
       "      <td>Andorra</td>\n",
       "      <td>WESTERN EUROPE</td>\n",
       "      <td>71201</td>\n",
       "      <td>468</td>\n",
       "      <td>152,1</td>\n",
       "      <td>0,00</td>\n",
       "      <td>6,6</td>\n",
       "      <td>4,05</td>\n",
       "      <td>19000.0</td>\n",
       "      <td>100,0</td>\n",
       "      <td>497,2</td>\n",
       "      <td>2,22</td>\n",
       "      <td>0</td>\n",
       "      <td>97,78</td>\n",
       "      <td>3</td>\n",
       "      <td>8,71</td>\n",
       "      <td>6,25</td>\n",
       "      <td>NaN</td>\n",
       "      <td>NaN</td>\n",
       "      <td>NaN</td>\n",
       "    </tr>\n",
       "  </tbody>\n",
       "</table>\n",
       "</div>"
      ],
      "text/plain": [
       "           Country                               Region  Population  \\\n",
       "0     Afghanistan         ASIA (EX. NEAR EAST)             31056997   \n",
       "1         Albania   EASTERN EUROPE                          3581655   \n",
       "2         Algeria   NORTHERN AFRICA                        32930091   \n",
       "3  American Samoa   OCEANIA                                   57794   \n",
       "4         Andorra   WESTERN EUROPE                            71201   \n",
       "\n",
       "   Area (sq. mi.) Pop. Density (per sq. mi.) Coastline (coast/area ratio)  \\\n",
       "0          647500                       48,0                         0,00   \n",
       "1           28748                      124,6                         1,26   \n",
       "2         2381740                       13,8                         0,04   \n",
       "3             199                      290,4                        58,29   \n",
       "4             468                      152,1                         0,00   \n",
       "\n",
       "  Net migration Infant mortality (per 1000 births)  GDP ($ per capita)  \\\n",
       "0         23,06                             163,07               700.0   \n",
       "1         -4,93                              21,52              4500.0   \n",
       "2         -0,39                                 31              6000.0   \n",
       "3        -20,71                               9,27              8000.0   \n",
       "4           6,6                               4,05             19000.0   \n",
       "\n",
       "  Literacy (%) Phones (per 1000) Arable (%) Crops (%) Other (%) Climate  \\\n",
       "0         36,0               3,2      12,13      0,22     87,65       1   \n",
       "1         86,5              71,2      21,09      4,42     74,49       3   \n",
       "2         70,0              78,1       3,22      0,25     96,53       1   \n",
       "3         97,0             259,5         10        15        75       2   \n",
       "4        100,0             497,2       2,22         0     97,78       3   \n",
       "\n",
       "  Birthrate Deathrate Agriculture Industry Service  \n",
       "0      46,6     20,34        0,38     0,24    0,38  \n",
       "1     15,11      5,22       0,232    0,188   0,579  \n",
       "2     17,14      4,61       0,101      0,6   0,298  \n",
       "3     22,46      3,27         NaN      NaN     NaN  \n",
       "4      8,71      6,25         NaN      NaN     NaN  "
      ]
     },
     "execution_count": 9,
     "metadata": {},
     "output_type": "execute_result"
    }
   ],
   "source": [
    "#import data\n",
    "import pandas as pd\n",
    "data=pd.read_csv(\"C:/Users/User/Documents/countries of the world.csv\")\n",
    "data.head()"
   ]
  },
  {
   "cell_type": "code",
   "execution_count": 10,
   "metadata": {},
   "outputs": [
    {
     "data": {
      "text/plain": [
       "Country                                0\n",
       "Region                                 0\n",
       "Population                             0\n",
       "Area (sq. mi.)                         0\n",
       "Pop. Density (per sq. mi.)             0\n",
       "Coastline (coast/area ratio)           0\n",
       "Net migration                          3\n",
       "Infant mortality (per 1000 births)     3\n",
       "GDP ($ per capita)                     1\n",
       "Literacy (%)                          18\n",
       "Phones (per 1000)                      4\n",
       "Arable (%)                             2\n",
       "Crops (%)                              2\n",
       "Other (%)                              2\n",
       "Climate                               22\n",
       "Birthrate                              3\n",
       "Deathrate                              4\n",
       "Agriculture                           15\n",
       "Industry                              16\n",
       "Service                               15\n",
       "dtype: int64"
      ]
     },
     "execution_count": 10,
     "metadata": {},
     "output_type": "execute_result"
    }
   ],
   "source": [
    "data.isnull().sum()"
   ]
  },
  {
   "cell_type": "markdown",
   "metadata": {},
   "source": [
    "Kita ingin menampilkan top 10 negara berdasarkan population"
   ]
  },
  {
   "cell_type": "code",
   "execution_count": 11,
   "metadata": {},
   "outputs": [
    {
     "data": {
      "text/html": [
       "<div>\n",
       "<style scoped>\n",
       "    .dataframe tbody tr th:only-of-type {\n",
       "        vertical-align: middle;\n",
       "    }\n",
       "\n",
       "    .dataframe tbody tr th {\n",
       "        vertical-align: top;\n",
       "    }\n",
       "\n",
       "    .dataframe thead th {\n",
       "        text-align: right;\n",
       "    }\n",
       "</style>\n",
       "<table border=\"1\" class=\"dataframe\">\n",
       "  <thead>\n",
       "    <tr style=\"text-align: right;\">\n",
       "      <th></th>\n",
       "      <th>Country</th>\n",
       "      <th>Population</th>\n",
       "    </tr>\n",
       "  </thead>\n",
       "  <tbody>\n",
       "    <tr>\n",
       "      <th>42</th>\n",
       "      <td>China</td>\n",
       "      <td>1313973713</td>\n",
       "    </tr>\n",
       "    <tr>\n",
       "      <th>94</th>\n",
       "      <td>India</td>\n",
       "      <td>1095351995</td>\n",
       "    </tr>\n",
       "    <tr>\n",
       "      <th>214</th>\n",
       "      <td>United States</td>\n",
       "      <td>298444215</td>\n",
       "    </tr>\n",
       "    <tr>\n",
       "      <th>95</th>\n",
       "      <td>Indonesia</td>\n",
       "      <td>245452739</td>\n",
       "    </tr>\n",
       "    <tr>\n",
       "      <th>27</th>\n",
       "      <td>Brazil</td>\n",
       "      <td>188078227</td>\n",
       "    </tr>\n",
       "    <tr>\n",
       "      <th>156</th>\n",
       "      <td>Pakistan</td>\n",
       "      <td>165803560</td>\n",
       "    </tr>\n",
       "    <tr>\n",
       "      <th>16</th>\n",
       "      <td>Bangladesh</td>\n",
       "      <td>147365352</td>\n",
       "    </tr>\n",
       "    <tr>\n",
       "      <th>169</th>\n",
       "      <td>Russia</td>\n",
       "      <td>142893540</td>\n",
       "    </tr>\n",
       "    <tr>\n",
       "      <th>152</th>\n",
       "      <td>Nigeria</td>\n",
       "      <td>131859731</td>\n",
       "    </tr>\n",
       "    <tr>\n",
       "      <th>103</th>\n",
       "      <td>Japan</td>\n",
       "      <td>127463611</td>\n",
       "    </tr>\n",
       "  </tbody>\n",
       "</table>\n",
       "</div>"
      ],
      "text/plain": [
       "            Country  Population\n",
       "42           China   1313973713\n",
       "94           India   1095351995\n",
       "214  United States    298444215\n",
       "95       Indonesia    245452739\n",
       "27          Brazil    188078227\n",
       "156       Pakistan    165803560\n",
       "16      Bangladesh    147365352\n",
       "169         Russia    142893540\n",
       "152        Nigeria    131859731\n",
       "103          Japan    127463611"
      ]
     },
     "execution_count": 11,
     "metadata": {},
     "output_type": "execute_result"
    }
   ],
   "source": [
    "top_population=data.sort_values(by='Population',ascending=False)\n",
    "top_population_con=top_population[['Country','Population']]\n",
    "top_population_con.head(10)"
   ]
  },
  {
   "cell_type": "code",
   "execution_count": 12,
   "metadata": {},
   "outputs": [
    {
     "data": {
      "text/plain": [
       "Text(0.95, 0.93, 'dalam billion')"
      ]
     },
     "execution_count": 12,
     "metadata": {},
     "output_type": "execute_result"
    },
    {
     "data": {
      "image/png": "[encoded data removed]",
      "text/plain": [
       "<Figure size 720x432 with 1 Axes>"
      ]
     },
     "metadata": {
      "needs_background": "light"
     },
     "output_type": "display_data"
    }
   ],
   "source": [
    "#memilih 10 negara dan sort value berdasarkan kolom\n",
    "top_ten=top_population_con.iloc[:11,:].sort_values(by='Population')\n",
    "from matplotlib import pyplot as plt\n",
    "plt.figure(figsize=(10,6))\n",
    "#membuat bar chart seacara horizontal\n",
    "plt.barh(top_ten['Country'],top_ten['Population'])\n",
    "#memberi nama label dan judul\n",
    "plt.xlabel('quantitiy')\n",
    "plt.ylabel('negara')\n",
    "plt.title('Top 10 negara dengan penduduk terbanyak di dunia',pad=30,loc='left',fontsize=18, fontweight='bold')\n",
    "#karena kita telah membuat plot, kode ini untuk kustomisasi axes dari plot yang telah kit abuat\n",
    "ax=plt.gca()\n",
    "#memindahkan xaxis ke posisi top\n",
    "ax.xaxis.tick_top()\n",
    "#membuat grid dan memindahkan ke bagian belakang\n",
    "ax.grid(axis='x',color='grey')\n",
    "ax.grid(axis='y',color='skyblue',linewidth=20,alpha=0.5)\n",
    "ax.set_axisbelow(True)\n",
    "#menonaktifkan border pada graph\n",
    "ax.spines['left'].set_visible(False)\n",
    "ax.spines['top'].set_visible(False)\n",
    "ax.spines['right'].set_visible(False)\n",
    "ax.spines['bottom'].set_visible(False)\n",
    "#membuat box berwarna pada masing-masing yticks\n",
    "for i in ax.get_yticklabels():\n",
    "    i.set_bbox(dict(facecolor='skyblue',edgecolor='none',boxstyle='round,pad=0.3'))\n",
    "#memindahkan satuan 1e9 ke top corner\n",
    "ax.xaxis.offsetText.set_visible(False)\n",
    "plt.figtext(0.95,\n",
    "            0.93,\n",
    "            'dalam billion',\n",
    "            ha='right',\n",
    "            va='top',\n",
    "            bbox=dict(facecolor='skyblue',edgecolor='none',boxstyle='round,pad=0.3')\n",
    ")\n",
    "\n",
    "\n",
    "    "
   ]
  },
  {
   "cell_type": "markdown",
   "metadata": {},
   "source": [
    "- China menjadi negara dengan penduduk terbanyak di dunia diikuti India dan Amerika"
   ]
  },
  {
   "cell_type": "markdown",
   "metadata": {},
   "source": [
    "**selanjutnya kita ingin melihat deathrate and birthrate pada 10 negara dengan populasi terbesar**"
   ]
  },
  {
   "cell_type": "code",
   "execution_count": 13,
   "metadata": {},
   "outputs": [
    {
     "data": {
      "text/plain": [
       "<matplotlib.legend.Legend at 0x118d6783f98>"
      ]
     },
     "execution_count": 13,
     "metadata": {},
     "output_type": "execute_result"
    },
    {
     "data": {
      "image/png": "[encoded data removed]",
      "text/plain": [
       "<Figure size 1080x432 with 1 Axes>"
      ]
     },
     "metadata": {
      "needs_background": "light"
     },
     "output_type": "display_data"
    }
   ],
   "source": [
    "#subset data\n",
    "top_10=top_population.iloc[:11,:].sort_values(by='Population')\n",
    "#memngkoversi niali yang memiliki koma menjadi titik dan diubah ke type float\n",
    "top_10['Deathrate']=top_10['Deathrate'].str.replace(\",\",\".\").astype(float)\n",
    "top_10['Birthrate']=top_10['Birthrate'].str.replace(\",\",\".\").astype(float)\n",
    "import numpy as np\n",
    "plt.figure(figsize=(15,6))\n",
    "#membuat bar horizontal\n",
    "plt.barh(top_10['Country'],-np.array(top_10['Deathrate']),color='cyan',label='Deathrate')\n",
    "plt.barh(top_10['Country'],top_10['Birthrate'],color='skyblue',label='Birthrate')\n",
    "#membuat vertical line\n",
    "plt.axvline(0,color='black',linestyle='--')\n",
    "#modify dengan menambah bar label\n",
    "ax=plt.gca()\n",
    "for i,patch in enumerate(ax.patches):\n",
    "    nilai=str(patch.get_width())\n",
    "    plt.text(patch.get_width(),patch.get_y()+patch.get_height()/2,f\"{nilai}%\")\n",
    "#menonaktifkan sumbu x\n",
    "ax.xaxis.set_visible(False)\n",
    "plt.ylabel('Country')\n",
    "plt.title('Deathrate vs Birthrate in top 10 country with large population', pad=25, fontweight='bold', fontsize=18)\n",
    "plt.legend(frameon=False)"
   ]
  },
  {
   "cell_type": "markdown",
   "metadata": {},
   "source": [
    "- Dalam 10 negara denga populasi terbanuak di dunia presentasei birthrate lebih tinggi dibandingkan dengan death rate\n",
    "- negara rusia menjadi satu-satunya negara yang presentase deathrate lebih tinggi dibandingkan dengan birthrate\n",
    "- Negara Jepang menjadi negara dengan presentase Birtrate dan Deathreate hampir sama"
   ]
  },
  {
   "cell_type": "markdown",
   "metadata": {},
   "source": [
    "**Top 10 GDP negara di dunia**"
   ]
  },
  {
   "cell_type": "code",
   "execution_count": 14,
   "metadata": {},
   "outputs": [
    {
     "data": {
      "text/html": [
       "<div>\n",
       "<style scoped>\n",
       "    .dataframe tbody tr th:only-of-type {\n",
       "        vertical-align: middle;\n",
       "    }\n",
       "\n",
       "    .dataframe tbody tr th {\n",
       "        vertical-align: top;\n",
       "    }\n",
       "\n",
       "    .dataframe thead th {\n",
       "        text-align: right;\n",
       "    }\n",
       "</style>\n",
       "<table border=\"1\" class=\"dataframe\">\n",
       "  <thead>\n",
       "    <tr style=\"text-align: right;\">\n",
       "      <th></th>\n",
       "      <th>Country</th>\n",
       "      <th>GDP ($ per capita)</th>\n",
       "    </tr>\n",
       "  </thead>\n",
       "  <tbody>\n",
       "    <tr>\n",
       "      <th>12</th>\n",
       "      <td>Austria</td>\n",
       "      <td>30000.0</td>\n",
       "    </tr>\n",
       "    <tr>\n",
       "      <th>93</th>\n",
       "      <td>Iceland</td>\n",
       "      <td>30900.0</td>\n",
       "    </tr>\n",
       "    <tr>\n",
       "      <th>54</th>\n",
       "      <td>Denmark</td>\n",
       "      <td>31100.0</td>\n",
       "    </tr>\n",
       "    <tr>\n",
       "      <th>196</th>\n",
       "      <td>Switzerland</td>\n",
       "      <td>32700.0</td>\n",
       "    </tr>\n",
       "    <tr>\n",
       "      <th>177</th>\n",
       "      <td>San Marino</td>\n",
       "      <td>34600.0</td>\n",
       "    </tr>\n",
       "    <tr>\n",
       "      <th>38</th>\n",
       "      <td>Cayman Islands</td>\n",
       "      <td>35000.0</td>\n",
       "    </tr>\n",
       "    <tr>\n",
       "      <th>22</th>\n",
       "      <td>Bermuda</td>\n",
       "      <td>36000.0</td>\n",
       "    </tr>\n",
       "    <tr>\n",
       "      <th>154</th>\n",
       "      <td>Norway</td>\n",
       "      <td>37800.0</td>\n",
       "    </tr>\n",
       "    <tr>\n",
       "      <th>214</th>\n",
       "      <td>United States</td>\n",
       "      <td>37800.0</td>\n",
       "    </tr>\n",
       "    <tr>\n",
       "      <th>121</th>\n",
       "      <td>Luxembourg</td>\n",
       "      <td>55100.0</td>\n",
       "    </tr>\n",
       "  </tbody>\n",
       "</table>\n",
       "</div>"
      ],
      "text/plain": [
       "             Country  GDP ($ per capita)\n",
       "12          Austria              30000.0\n",
       "93          Iceland              30900.0\n",
       "54          Denmark              31100.0\n",
       "196     Switzerland              32700.0\n",
       "177      San Marino              34600.0\n",
       "38   Cayman Islands              35000.0\n",
       "22          Bermuda              36000.0\n",
       "154          Norway              37800.0\n",
       "214   United States              37800.0\n",
       "121      Luxembourg              55100.0"
      ]
     },
     "execution_count": 14,
     "metadata": {},
     "output_type": "execute_result"
    }
   ],
   "source": [
    "check_gdp=data.sort_values(by='GDP ($ per capita)',ascending=False)\n",
    "gdp_con=check_gdp[['Country','GDP ($ per capita)']]\n",
    "top_gdp=gdp_con.iloc[:10,:].sort_values(by='GDP ($ per capita)',ascending=True)\n",
    "top_gdp"
   ]
  },
  {
   "cell_type": "markdown",
   "metadata": {},
   "source": [
    "- Negara luxembourg menjadi negara GDP terbesar di dunia unggul jauh dibandingkan 9 negara lainnya dalam daftar 10 negara terbesar berdasarkan GDP"
   ]
  },
  {
   "cell_type": "code",
   "execution_count": 137,
   "metadata": {},
   "outputs": [
    {
     "name": "stdout",
     "output_type": "stream",
     "text": [
      "float64\n",
      "float64\n",
      "float64\n"
     ]
    }
   ],
   "source": [
    "negara=[i for i in top_gdp['Country']]\n",
    "#format\n",
    "kelas=['Agriculture','Industry','Service']\n",
    "for i in kelas:\n",
    "   data[i]=data[i].astype('str').str.replace(\",\",\".\").astype(float)\n",
    "   print(data[i].dtypes)\n",
    "import numpy as np\n",
    "pie_data=[]\n",
    "for i in negara:\n",
    "    ambil=data[data['Country']==i]\n",
    "    ind=ambil['Industry'].values[0]\n",
    "    ser=ambil['Service'].values[0]\n",
    "    ag=ambil['Agriculture'].values[0]\n",
    "    if np.isnan(ag) and np.isnan(ind) and np.isnan(ser):\n",
    "        pie_data.append([0.3,0.5,0.2])\n",
    "    else:\n",
    "        pie_data.append([ind,ser,ag])\n"
   ]
  },
  {
   "cell_type": "code",
   "execution_count": 136,
   "metadata": {},
   "outputs": [
    {
     "data": {
      "text/plain": [
       "Text(0.55, 0.8, '$ per kapita')"
      ]
     },
     "execution_count": 136,
     "metadata": {},
     "output_type": "execute_result"
    },
    {
     "data": {
      "image/png": "[encoded data removed]",
      "text/plain": [
       "<Figure size 1080x432 with 11 Axes>"
      ]
     },
     "metadata": {
      "needs_background": "light"
     },
     "output_type": "display_data"
    }
   ],
   "source": [
    "fig=plt.figure(figsize=(15,6))\n",
    "#kenapa menggunakan plt axes agar 0,0 sama koordinat dengan ax2\n",
    "ax=plt.axes([0,0,0.6,0.8])\n",
    "y=[i for i in range(1,11,1)]\n",
    "ax.barh(top_gdp['Country'],top_gdp['GDP ($ per capita)'],color='grey')\n",
    "ax.set_ylim(-1,10)\n",
    "ylim=ax.get_ylim()\n",
    "xlim=ax.get_xlim()\n",
    "#menambah text pada setiap bar\n",
    "for i,j in zip(ax.patches,ax.get_yticks()):\n",
    "    w=i.get_width()\n",
    "    plt.text(w,j,f\"{w}\", fontweight='bold')\n",
    "#menonaktifkan sumbu\n",
    "ax.spines['top'].set_visible(False)\n",
    "ax.spines['bottom'].set_visible(False)\n",
    "ax.spines['right'].set_visible(False)\n",
    "ax.xaxis.set_visible(False)\n",
    "#menambah pie chart\n",
    "#jari-jari pie chart\n",
    "r=0.04\n",
    "#tinggi dari figure dikurang jari-jari\n",
    "height=0.8-r\n",
    "for i,j,k,l in zip(y,top_gdp['GDP ($ per capita)'],top_gdp['Country'],pie_data):\n",
    "    #diubah dari koordinat tick ke lim\n",
    "    norm=(i-1.3-ylim[0])/(ylim[1]-ylim[0])\n",
    "    ax2=plt.axes([-0.135,norm*0.77,0.07,0.07])\n",
    "    ambil=data[data['Country']==k]\n",
    "    \n",
    "    ax2.pie(l)\n",
    "    ax2.axis('equal')\n",
    "#membuat custom legend\n",
    "import matplotlib.patches as patches\n",
    "colr_m={\n",
    "    'Industry':'Orange',\n",
    "    'Service':'Blue',\n",
    "    'Agriculture':'Green'\n",
    "}\n",
    "legend=[]\n",
    "for i in kelas:\n",
    "    leged=patches.Patch(facecolor=colr_m[i],label=i)\n",
    "    legend.append(leged)\n",
    "plt.legend(handles=legend,bbox_to_anchor=(0.3,2.7))\n",
    "#menambah keterangan\n",
    "plt.text(-1.1,2.2,'Pie chart agriculture,\\nindustry, and service',fontweight='bold')\n",
    "plt.figtext(0.55,0.8,'$ per kapita',bbox=dict(facecolor='skyblue',boxstyle='round'))"
   ]
  },
  {
   "cell_type": "markdown",
   "metadata": {},
   "source": [
    "- Luksembourg menjadi negara terbesar di kategori GDP \n",
    "- Norwegia dan USA memiliki GDP yang sama\n",
    "- sektor Industri menjadi sektor dominan dari 10 negara GDP terbesar di dunia, diikuti sektor service dan pertanian"
   ]
  },
  {
   "cell_type": "code",
   "execution_count": null,
   "metadata": {},
   "outputs": [],
   "source": []
  }
 ],
 "metadata": {
  "kernelspec": {
   "display_name": "Python 3",
   "language": "python",
   "name": "python3"
  },
  "language_info": {
   "codemirror_mode": {
    "name": "ipython",
    "version": 3
   },
   "file_extension": ".py",
   "mimetype": "text/x-python",
   "name": "python",
   "nbconvert_exporter": "python",
   "pygments_lexer": "ipython3",
   "version": "3.7.3"
  }
 },
 "nbformat": 4,
 "nbformat_minor": 2
}
